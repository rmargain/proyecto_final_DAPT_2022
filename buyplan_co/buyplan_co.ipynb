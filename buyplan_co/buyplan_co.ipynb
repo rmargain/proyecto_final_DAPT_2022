{
 "cells": [
  {
   "cell_type": "code",
   "execution_count": 136,
   "id": "98e8e660-e739-48a7-8048-44a8112920d9",
   "metadata": {},
   "outputs": [],
   "source": [
    "import pandas as pd\n",
    "import numpy as np\n",
    "import pytz\n",
    "from datetime import datetime, timezone, timedelta, date\n",
    "import datetime as dt\n",
    "local_tz = pytz.timezone('America/Bogota')\n",
    "import math\n",
    "from docplex.mp.model import Model\n",
    "import json"
   ]
  },
  {
   "cell_type": "markdown",
   "id": "501d610d-4588-4276-92f1-99557adfe19a",
   "metadata": {},
   "source": [
    "# Forecast"
   ]
  },
  {
   "cell_type": "code",
   "execution_count": 137,
   "id": "4a344137-be97-44b7-a5de-d9fb53978892",
   "metadata": {},
   "outputs": [],
   "source": [
    "forecast = pd.read_csv('Forecast.csv')"
   ]
  },
  {
   "cell_type": "code",
   "execution_count": 138,
   "id": "4ed02497-77c9-466d-aa61-f896e0eafa53",
   "metadata": {},
   "outputs": [],
   "source": [
    "forecast = forecast.rename(columns={'Forecast 2023 3': '2023-03-01',\n",
    "                                    'Forecast 2023 4': '2023-04-01',\n",
    "                                    'Forecast 2023 5': '2023-05-01',\n",
    "                                    'Forecast 2023 6': '2023-06-01', \n",
    "                                    'Forecast 2023 7': '2023-07-01',\n",
    "                                    'Forecast 2023 8': '2023-08-01',\n",
    "                                    'Forecast 2023 9': '2023-09-01',\n",
    "                                    'Forecast 2023 10': '2023-10-01',\n",
    "                                    'Forecast 2023 11': '2023-11-01',\n",
    "                                    'Forecast 2023 12': '2023-12-01',\n",
    "                                    'Forecast 2024 1': '2024-01-01',\n",
    "                                    'Forecast 2024 2': '2024-02-01',\n",
    "                                    'Forecast 2024 3': '2024-03-01',\n",
    "                                    'Forecast 2024 4': '2024-04-01',\n",
    "                                    'Forecast 2024 5': '2024-05-01',\n",
    "                                    'Forecast 2024 6': '2024-06-01',\n",
    "                                    'Forecast 2024 7': '2024-07-01',\n",
    "                                    'Forecast 2024 8': '2024-08-01',\n",
    "                                    'Forecast 2024 9': '2024-09-01',\n",
    "                                    'Forecast 2024 10': '2024-10-01',\n",
    "                                    'Forecast 2024 11': '2024-11-01',\n",
    "                                    'Forecast 2024 12': '2024-12-01',\n",
    "                                   })"
   ]
  },
  {
   "cell_type": "code",
   "execution_count": 139,
   "id": "f31f2024-53b7-4a88-a7e8-ec4578108f29",
   "metadata": {
    "tags": []
   },
   "outputs": [],
   "source": [
    "forecast = forecast.melt(id_vars=['EAN_TEXT'], \n",
    "                         value_vars=['2023-03-01', '2023-04-01', '2023-05-01', \n",
    "                                     '2023-06-01', '2023-07-01', '2023-08-01',\n",
    "                                     '2023-09-01', '2023-10-01', '2023-11-01', \n",
    "                                     '2023-12-01', '2024-01-01', '2024-02-01', \n",
    "                                     '2024-03-01', '2024-04-01', '2024-05-01',\n",
    "                                     '2024-06-01', '2024-07-01', '2024-08-01', \n",
    "                                     '2024-09-01', '2024-10-01', '2024-11-01', \n",
    "                                     '2024-12-01'], var_name='First_Day_Month', value_name='Monthly_Forecast')\n",
    "forecast.First_Day_Month = pd.to_datetime(forecast.First_Day_Month)\n",
    "forecast.Monthly_Forecast = forecast.Monthly_Forecast.replace('',0).astype(float)\n",
    "forecast['Days_Month'] = forecast['First_Day_Month'].apply(lambda date: date.days_in_month)\n",
    "forecast['Daily_Forecast'] = forecast['Monthly_Forecast']/forecast['Days_Month']\n",
    "forecast['Month'] = pd.DatetimeIndex(forecast['First_Day_Month']).month\n",
    "forecast['Year'] = pd.DatetimeIndex(forecast['First_Day_Month']).year"
   ]
  },
  {
   "cell_type": "code",
   "execution_count": 140,
   "id": "9b444d36-1f13-4472-825c-4cfe6409483f",
   "metadata": {},
   "outputs": [],
   "source": [
    "df_forecast = pd.DataFrame(index=pd.date_range(start=dt.date.today(), periods=730, freq='D')).reset_index().rename(columns={'index':'Date'})\n",
    "df_forecast= df_forecast.merge(pd.DataFrame(forecast['EAN_TEXT'].unique()), how='cross').rename(columns={0:'EAN_TEXT'})\n",
    "df_forecast['Month'] = pd.DatetimeIndex(df_forecast['Date']).month\n",
    "df_forecast['Year'] = pd.DatetimeIndex(df_forecast['Date']).year\n",
    "df_forecast = df_forecast.merge(forecast, how='left', left_on=['EAN_TEXT', 'Month', 'Year'], right_on=['EAN_TEXT', 'Month', 'Year'])\n",
    "df_forecast = df_forecast.drop(columns=['First_Day_Month', 'Days_Month', 'First_Day_Month'])\n",
    "df_forecast = df_forecast[['EAN_TEXT', 'Date', 'Year', 'Month', 'Daily_Forecast']]"
   ]
  },
  {
   "cell_type": "code",
   "execution_count": 141,
   "id": "1819cd51-7dd6-4f62-8006-957890763292",
   "metadata": {},
   "outputs": [],
   "source": [
    "df_forecast_90D = df_forecast[(df_forecast.Date >= dt.datetime.today()) & (df_forecast.Date <= dt.datetime.today()+dt.timedelta(days=90))].groupby('EAN_TEXT').sum()['Daily_Forecast'].reset_index()\n",
    "df_forecast_365D = df_forecast[(df_forecast.Date >= dt.datetime.today()) & (df_forecast.Date <= dt.datetime.today()+dt.timedelta(days=365))].groupby('EAN_TEXT').sum()['Daily_Forecast'].reset_index()"
   ]
  },
  {
   "cell_type": "code",
   "execution_count": 142,
   "id": "d9c0bd18-1697-4bf6-8bcb-561d28fc195b",
   "metadata": {},
   "outputs": [],
   "source": [
    "base = df_forecast.copy()"
   ]
  },
  {
   "cell_type": "markdown",
   "id": "9b5a3d3d-172b-4e93-aa2f-0719e48a0722",
   "metadata": {
    "tags": []
   },
   "source": [
    "# Inventory"
   ]
  },
  {
   "cell_type": "code",
   "execution_count": 143,
   "id": "ba0af1b3-5e52-410f-8655-a0384f8a12d5",
   "metadata": {},
   "outputs": [],
   "source": [
    "inv = pd.read_csv('../consol_inventario_co/inventory.csv')"
   ]
  },
  {
   "cell_type": "code",
   "execution_count": 144,
   "id": "b770dce3-d4e1-436d-b548-8174dd2a25aa",
   "metadata": {},
   "outputs": [],
   "source": [
    "inv_to_dist = inv[inv['DHL Pending Maquila'] > 0]"
   ]
  },
  {
   "cell_type": "code",
   "execution_count": 145,
   "id": "b9c69ca8-c19d-48b4-86a3-63cc67b7d7f1",
   "metadata": {},
   "outputs": [],
   "source": [
    "mm_df = pd.read_excel('maquila_master_co.xlsx')\n",
    "mm_df = mm_df.merge(df_forecast_90D, how='left', left_on='EAN Sales', right_on='EAN_TEXT').drop(columns='EAN_TEXT')\n",
    "mm_df['Daily_Forecast'] = mm_df['Daily_Forecast'].fillna(0)\n",
    "mm_df = mm_df.merge(inv[['EAN_TEXT', 'Meli_Full_Available', 'Linio_Available', 'Homecenter Available', 'DHL Available']], how='left', left_on='EAN Sales', right_on='EAN_TEXT').drop(columns='EAN_TEXT')\n",
    "mm_df['Inv Total'] = mm_df[['Meli_Full_Available', 'Linio_Available', 'Homecenter Available', 'DHL Available']].fillna(0).sum(axis=1)\n",
    "mm_df.drop(columns=['Meli_Full_Available', 'Linio_Available', 'Homecenter Available', 'DHL Available'], inplace=True)\n",
    "def required(row, safe=0.1):\n",
    "    return np.maximum(row['Daily_Forecast'] - row['Inv Total'], 0) + safe*row['Daily_Forecast']\n",
    "mm_df['required'] = mm_df.apply(lambda row: required(row), axis=1)"
   ]
  },
  {
   "cell_type": "code",
   "execution_count": 146,
   "id": "f4f56029-b77f-40a0-854d-de37a69ccfec",
   "metadata": {},
   "outputs": [],
   "source": [
    "primary_components_availability = mm_df.merge(inv[['EAN_TEXT', 'DHL Pending Maquila']], how='left', left_on='EAN Sales', right_on='EAN_TEXT')\n",
    "primary_components_availability['DHL Pending Maquila'] = primary_components_availability['DHL Pending Maquila'].fillna(0)"
   ]
  },
  {
   "cell_type": "code",
   "execution_count": 147,
   "id": "e16fe09c-96f5-4c3f-a5bb-b2cc0166a5e8",
   "metadata": {},
   "outputs": [],
   "source": [
    "primary_components_availability = primary_components_availability[(primary_components_availability['DHL Pending Maquila']> 0)].reset_index(drop=True)"
   ]
  },
  {
   "cell_type": "code",
   "execution_count": 148,
   "id": "a72983c8-0710-4312-bcb1-24277646f23e",
   "metadata": {},
   "outputs": [],
   "source": [
    "components = pd.DataFrame()\n",
    "for i in range(len(primary_components_availability)):\n",
    "    df_ind = pd.DataFrame(json.loads(primary_components_availability.iloc[i]['Components Dict']), index=['Qty']).T.reset_index().rename(columns={'index':'EAN_TEXT'})\n",
    "    df_ind['Available_Dist'] = df_ind.Qty*primary_components_availability.iloc[i]['DHL Pending Maquila']\n",
    "    df_ind['Family'] = primary_components_availability.iloc[i]['Family']\n",
    "    components = pd.concat([components, df_ind])"
   ]
  },
  {
   "cell_type": "code",
   "execution_count": 149,
   "id": "ca8aa20f-9803-4a15-b6c6-803c521facc9",
   "metadata": {},
   "outputs": [],
   "source": [
    "components = components[['EAN_TEXT', 'Available_Dist', 'Family']].groupby(['EAN_TEXT', 'Family']).sum().reset_index()"
   ]
  },
  {
   "cell_type": "code",
   "execution_count": 151,
   "id": "4841c4af-5507-4943-b82b-0c649666a6e9",
   "metadata": {},
   "outputs": [
    {
     "data": {
      "text/html": [
       "<div>\n",
       "<style scoped>\n",
       "    .dataframe tbody tr th:only-of-type {\n",
       "        vertical-align: middle;\n",
       "    }\n",
       "\n",
       "    .dataframe tbody tr th {\n",
       "        vertical-align: top;\n",
       "    }\n",
       "\n",
       "    .dataframe thead th {\n",
       "        text-align: right;\n",
       "    }\n",
       "</style>\n",
       "<table border=\"1\" class=\"dataframe\">\n",
       "  <thead>\n",
       "    <tr style=\"text-align: right;\">\n",
       "      <th></th>\n",
       "      <th>Use case</th>\n",
       "      <th>EAN Sales</th>\n",
       "      <th>Family</th>\n",
       "      <th>Brand</th>\n",
       "      <th>Description</th>\n",
       "      <th>Type</th>\n",
       "      <th>Components</th>\n",
       "      <th>Components Dict</th>\n",
       "      <th>Daily_Forecast</th>\n",
       "      <th>Inv Total</th>\n",
       "      <th>required</th>\n",
       "    </tr>\n",
       "  </thead>\n",
       "  <tbody>\n",
       "    <tr>\n",
       "      <th>75</th>\n",
       "      <td>Maletas</td>\n",
       "      <td>EAN07500764002966</td>\n",
       "      <td>Negro Lineas Horizontales</td>\n",
       "      <td>Travel Elite</td>\n",
       "      <td>Juego Set 4 Maletas Rigidas Viaje 4 Ruedas Pol...</td>\n",
       "      <td>Set</td>\n",
       "      <td>[\"EAN07502308501263\",\"EAN07502308501300\",\"EAN0...</td>\n",
       "      <td>{\"EAN07502308501263\":1,\"EAN07502308501300\":1,\"...</td>\n",
       "      <td>0.000000</td>\n",
       "      <td>466.0</td>\n",
       "      <td>0.000000</td>\n",
       "    </tr>\n",
       "    <tr>\n",
       "      <th>76</th>\n",
       "      <td>Maletas</td>\n",
       "      <td>EAN07502308502536</td>\n",
       "      <td>Negro Lineas Horizontales</td>\n",
       "      <td>Travel Elite</td>\n",
       "      <td>Set 3 Maletas Tour Grande, Mediana, Pequeña 28...</td>\n",
       "      <td>Set</td>\n",
       "      <td>[\"EAN07502308501263\",\"EAN07502308501300\",\"EAN0...</td>\n",
       "      <td>{\"EAN07502308501263\":1,\"EAN07502308501300\":1,\"...</td>\n",
       "      <td>0.000000</td>\n",
       "      <td>0.0</td>\n",
       "      <td>0.000000</td>\n",
       "    </tr>\n",
       "    <tr>\n",
       "      <th>77</th>\n",
       "      <td>Maletas</td>\n",
       "      <td>Pending043</td>\n",
       "      <td>Negro Lineas Horizontales</td>\n",
       "      <td>Travel Elite</td>\n",
       "      <td>Set 3 Maletas Tour Grande, Mediana, Mano 28, 2...</td>\n",
       "      <td>Set</td>\n",
       "      <td>[\"EAN07502308501263\",\"EAN07502308501300\",\"EAN0...</td>\n",
       "      <td>{\"EAN07502308501263\":1,\"EAN07502308501300\":1,\"...</td>\n",
       "      <td>0.000000</td>\n",
       "      <td>0.0</td>\n",
       "      <td>0.000000</td>\n",
       "    </tr>\n",
       "    <tr>\n",
       "      <th>78</th>\n",
       "      <td>Maletas</td>\n",
       "      <td>Pending044</td>\n",
       "      <td>Negro Lineas Horizontales</td>\n",
       "      <td>Travel Elite</td>\n",
       "      <td>Set 3 Maletas Tour Grande, Pequeña, Mano 28, 2...</td>\n",
       "      <td>Set</td>\n",
       "      <td>[\"EAN07502308501263\",\"EAN07502308501348\",\"EAN0...</td>\n",
       "      <td>{\"EAN07502308501263\":1,\"EAN07502308501348\":1,\"...</td>\n",
       "      <td>0.000000</td>\n",
       "      <td>0.0</td>\n",
       "      <td>0.000000</td>\n",
       "    </tr>\n",
       "    <tr>\n",
       "      <th>79</th>\n",
       "      <td>Maletas</td>\n",
       "      <td>Pending045</td>\n",
       "      <td>Negro Lineas Horizontales</td>\n",
       "      <td>Travel Elite</td>\n",
       "      <td>Set 3 Maletas Tour Mediana, Pequeña, Mano 24, ...</td>\n",
       "      <td>Set</td>\n",
       "      <td>[\"EAN07502308501300\",\"EAN07502308501348\",\"EAN0...</td>\n",
       "      <td>{\"EAN07502308501300\":1,\"EAN07502308501348\":1,\"...</td>\n",
       "      <td>0.000000</td>\n",
       "      <td>0.0</td>\n",
       "      <td>0.000000</td>\n",
       "    </tr>\n",
       "    <tr>\n",
       "      <th>80</th>\n",
       "      <td>Maletas</td>\n",
       "      <td>EAN07502308501188</td>\n",
       "      <td>Negro Lineas Horizontales</td>\n",
       "      <td>Travel Elite</td>\n",
       "      <td>Set 2 Maletas Tour Grande y Mano 28 y 20 Pulga...</td>\n",
       "      <td>Set</td>\n",
       "      <td>[\"EAN07502308501263\",\"EAN07502308501348\"]</td>\n",
       "      <td>{\"EAN07502308501263\":1,\"EAN07502308501348\":1}</td>\n",
       "      <td>50.021505</td>\n",
       "      <td>391.0</td>\n",
       "      <td>5.002151</td>\n",
       "    </tr>\n",
       "    <tr>\n",
       "      <th>81</th>\n",
       "      <td>Maletas</td>\n",
       "      <td>EAN07502308501225</td>\n",
       "      <td>Negro Lineas Horizontales</td>\n",
       "      <td>Travel Elite</td>\n",
       "      <td>Set 2 Maletas Tour Mediana Mano 24 y 16 Pulgad...</td>\n",
       "      <td>Set</td>\n",
       "      <td>[\"EAN07502308501300\",\"EAN00733810238652\"]</td>\n",
       "      <td>{\"EAN07502308501300\":1,\"EAN00733810238652\":1}</td>\n",
       "      <td>62.849462</td>\n",
       "      <td>271.0</td>\n",
       "      <td>6.284946</td>\n",
       "    </tr>\n",
       "    <tr>\n",
       "      <th>82</th>\n",
       "      <td>Maletas</td>\n",
       "      <td>Pending046</td>\n",
       "      <td>Negro Lineas Horizontales</td>\n",
       "      <td>Travel Elite</td>\n",
       "      <td>Set 2 Maletas Tour Grande y Mediana 28 y 24 Pu...</td>\n",
       "      <td>Set</td>\n",
       "      <td>[\"EAN07502308501263\",\"EAN07502308501300\"]</td>\n",
       "      <td>{\"EAN07502308501263\":1,\"EAN07502308501300\":1}</td>\n",
       "      <td>0.000000</td>\n",
       "      <td>0.0</td>\n",
       "      <td>0.000000</td>\n",
       "    </tr>\n",
       "    <tr>\n",
       "      <th>83</th>\n",
       "      <td>Maletas</td>\n",
       "      <td>Pending047</td>\n",
       "      <td>Negro Lineas Horizontales</td>\n",
       "      <td>Travel Elite</td>\n",
       "      <td>Set 2 Maletas Tour Grande y Mano 28 y 16 Pulga...</td>\n",
       "      <td>Set</td>\n",
       "      <td>[\"EAN07502308501263\",\"EAN00733810238652\"]</td>\n",
       "      <td>{\"EAN07502308501263\":1,\"EAN00733810238652\":1}</td>\n",
       "      <td>0.000000</td>\n",
       "      <td>0.0</td>\n",
       "      <td>0.000000</td>\n",
       "    </tr>\n",
       "    <tr>\n",
       "      <th>84</th>\n",
       "      <td>Maletas</td>\n",
       "      <td>Pending048</td>\n",
       "      <td>Negro Lineas Horizontales</td>\n",
       "      <td>Travel Elite</td>\n",
       "      <td>Set 2 Maletas Tour Mediana Mano 24 y 20 Pulgad...</td>\n",
       "      <td>Set</td>\n",
       "      <td>[\"EAN07502308501300\",\"EAN07502308501348\"]</td>\n",
       "      <td>{\"EAN07502308501300\":1,\"EAN07502308501348\":1}</td>\n",
       "      <td>0.000000</td>\n",
       "      <td>0.0</td>\n",
       "      <td>0.000000</td>\n",
       "    </tr>\n",
       "    <tr>\n",
       "      <th>85</th>\n",
       "      <td>Maletas</td>\n",
       "      <td>Pending049</td>\n",
       "      <td>Negro Lineas Horizontales</td>\n",
       "      <td>Travel Elite</td>\n",
       "      <td>Set 2 Maletas Tour Pequeña y CO 20 y 16 Pulgad...</td>\n",
       "      <td>Set</td>\n",
       "      <td>[\"EAN07502308501348\",\"EAN00733810238652\"]</td>\n",
       "      <td>{\"EAN07502308501348\":1,\"EAN00733810238652\":1}</td>\n",
       "      <td>0.000000</td>\n",
       "      <td>0.0</td>\n",
       "      <td>0.000000</td>\n",
       "    </tr>\n",
       "    <tr>\n",
       "      <th>86</th>\n",
       "      <td>Maletas</td>\n",
       "      <td>EAN07502308501263</td>\n",
       "      <td>Negro Lineas Horizontales</td>\n",
       "      <td>Travel Elite</td>\n",
       "      <td>Maleta Tour Grande ABS 28 pulgadas Negro</td>\n",
       "      <td>Ind</td>\n",
       "      <td>[\"EAN07502308501263\"]</td>\n",
       "      <td>{\"EAN07502308501263\":1}</td>\n",
       "      <td>100.043011</td>\n",
       "      <td>1065.0</td>\n",
       "      <td>10.004301</td>\n",
       "    </tr>\n",
       "    <tr>\n",
       "      <th>87</th>\n",
       "      <td>Maletas</td>\n",
       "      <td>EAN07502308501300</td>\n",
       "      <td>Negro Lineas Horizontales</td>\n",
       "      <td>Travel Elite</td>\n",
       "      <td>Maleta Tour Mediana ABS 24 pulgadas Negro</td>\n",
       "      <td>Ind</td>\n",
       "      <td>[\"EAN07502308501300\"]</td>\n",
       "      <td>{\"EAN07502308501300\":1}</td>\n",
       "      <td>125.075269</td>\n",
       "      <td>1251.0</td>\n",
       "      <td>12.507527</td>\n",
       "    </tr>\n",
       "    <tr>\n",
       "      <th>88</th>\n",
       "      <td>Maletas</td>\n",
       "      <td>EAN07502308501348</td>\n",
       "      <td>Negro Lineas Horizontales</td>\n",
       "      <td>Travel Elite</td>\n",
       "      <td>Maleta Tour Mano ABS 20 pulgadas Negro</td>\n",
       "      <td>Ind</td>\n",
       "      <td>[\"EAN07502308501348\"]</td>\n",
       "      <td>{\"EAN07502308501348\":1}</td>\n",
       "      <td>199.462366</td>\n",
       "      <td>853.0</td>\n",
       "      <td>19.946237</td>\n",
       "    </tr>\n",
       "    <tr>\n",
       "      <th>89</th>\n",
       "      <td>Maletas</td>\n",
       "      <td>EAN00733810238652</td>\n",
       "      <td>Negro Lineas Horizontales</td>\n",
       "      <td>Travel Elite</td>\n",
       "      <td>Maleta Tour Mano Carry-On ABS 16 pulgadas Negro</td>\n",
       "      <td>Ind</td>\n",
       "      <td>[\"EAN00733810238652\"]</td>\n",
       "      <td>{\"EAN00733810238652\":1}</td>\n",
       "      <td>175.096774</td>\n",
       "      <td>0.0</td>\n",
       "      <td>192.606452</td>\n",
       "    </tr>\n",
       "  </tbody>\n",
       "</table>\n",
       "</div>"
      ],
      "text/plain": [
       "   Use case          EAN Sales                     Family         Brand  \\\n",
       "75  Maletas  EAN07500764002966  Negro Lineas Horizontales  Travel Elite   \n",
       "76  Maletas  EAN07502308502536  Negro Lineas Horizontales  Travel Elite   \n",
       "77  Maletas         Pending043  Negro Lineas Horizontales  Travel Elite   \n",
       "78  Maletas         Pending044  Negro Lineas Horizontales  Travel Elite   \n",
       "79  Maletas         Pending045  Negro Lineas Horizontales  Travel Elite   \n",
       "80  Maletas  EAN07502308501188  Negro Lineas Horizontales  Travel Elite   \n",
       "81  Maletas  EAN07502308501225  Negro Lineas Horizontales  Travel Elite   \n",
       "82  Maletas         Pending046  Negro Lineas Horizontales  Travel Elite   \n",
       "83  Maletas         Pending047  Negro Lineas Horizontales  Travel Elite   \n",
       "84  Maletas         Pending048  Negro Lineas Horizontales  Travel Elite   \n",
       "85  Maletas         Pending049  Negro Lineas Horizontales  Travel Elite   \n",
       "86  Maletas  EAN07502308501263  Negro Lineas Horizontales  Travel Elite   \n",
       "87  Maletas  EAN07502308501300  Negro Lineas Horizontales  Travel Elite   \n",
       "88  Maletas  EAN07502308501348  Negro Lineas Horizontales  Travel Elite   \n",
       "89  Maletas  EAN00733810238652  Negro Lineas Horizontales  Travel Elite   \n",
       "\n",
       "                                          Description Type  \\\n",
       "75  Juego Set 4 Maletas Rigidas Viaje 4 Ruedas Pol...  Set   \n",
       "76  Set 3 Maletas Tour Grande, Mediana, Pequeña 28...  Set   \n",
       "77  Set 3 Maletas Tour Grande, Mediana, Mano 28, 2...  Set   \n",
       "78  Set 3 Maletas Tour Grande, Pequeña, Mano 28, 2...  Set   \n",
       "79  Set 3 Maletas Tour Mediana, Pequeña, Mano 24, ...  Set   \n",
       "80  Set 2 Maletas Tour Grande y Mano 28 y 20 Pulga...  Set   \n",
       "81  Set 2 Maletas Tour Mediana Mano 24 y 16 Pulgad...  Set   \n",
       "82  Set 2 Maletas Tour Grande y Mediana 28 y 24 Pu...  Set   \n",
       "83  Set 2 Maletas Tour Grande y Mano 28 y 16 Pulga...  Set   \n",
       "84  Set 2 Maletas Tour Mediana Mano 24 y 20 Pulgad...  Set   \n",
       "85  Set 2 Maletas Tour Pequeña y CO 20 y 16 Pulgad...  Set   \n",
       "86           Maleta Tour Grande ABS 28 pulgadas Negro  Ind   \n",
       "87          Maleta Tour Mediana ABS 24 pulgadas Negro  Ind   \n",
       "88             Maleta Tour Mano ABS 20 pulgadas Negro  Ind   \n",
       "89    Maleta Tour Mano Carry-On ABS 16 pulgadas Negro  Ind   \n",
       "\n",
       "                                           Components  \\\n",
       "75  [\"EAN07502308501263\",\"EAN07502308501300\",\"EAN0...   \n",
       "76  [\"EAN07502308501263\",\"EAN07502308501300\",\"EAN0...   \n",
       "77  [\"EAN07502308501263\",\"EAN07502308501300\",\"EAN0...   \n",
       "78  [\"EAN07502308501263\",\"EAN07502308501348\",\"EAN0...   \n",
       "79  [\"EAN07502308501300\",\"EAN07502308501348\",\"EAN0...   \n",
       "80          [\"EAN07502308501263\",\"EAN07502308501348\"]   \n",
       "81          [\"EAN07502308501300\",\"EAN00733810238652\"]   \n",
       "82          [\"EAN07502308501263\",\"EAN07502308501300\"]   \n",
       "83          [\"EAN07502308501263\",\"EAN00733810238652\"]   \n",
       "84          [\"EAN07502308501300\",\"EAN07502308501348\"]   \n",
       "85          [\"EAN07502308501348\",\"EAN00733810238652\"]   \n",
       "86                              [\"EAN07502308501263\"]   \n",
       "87                              [\"EAN07502308501300\"]   \n",
       "88                              [\"EAN07502308501348\"]   \n",
       "89                              [\"EAN00733810238652\"]   \n",
       "\n",
       "                                      Components Dict  Daily_Forecast  \\\n",
       "75  {\"EAN07502308501263\":1,\"EAN07502308501300\":1,\"...        0.000000   \n",
       "76  {\"EAN07502308501263\":1,\"EAN07502308501300\":1,\"...        0.000000   \n",
       "77  {\"EAN07502308501263\":1,\"EAN07502308501300\":1,\"...        0.000000   \n",
       "78  {\"EAN07502308501263\":1,\"EAN07502308501348\":1,\"...        0.000000   \n",
       "79  {\"EAN07502308501300\":1,\"EAN07502308501348\":1,\"...        0.000000   \n",
       "80      {\"EAN07502308501263\":1,\"EAN07502308501348\":1}       50.021505   \n",
       "81      {\"EAN07502308501300\":1,\"EAN00733810238652\":1}       62.849462   \n",
       "82      {\"EAN07502308501263\":1,\"EAN07502308501300\":1}        0.000000   \n",
       "83      {\"EAN07502308501263\":1,\"EAN00733810238652\":1}        0.000000   \n",
       "84      {\"EAN07502308501300\":1,\"EAN07502308501348\":1}        0.000000   \n",
       "85      {\"EAN07502308501348\":1,\"EAN00733810238652\":1}        0.000000   \n",
       "86                            {\"EAN07502308501263\":1}      100.043011   \n",
       "87                            {\"EAN07502308501300\":1}      125.075269   \n",
       "88                            {\"EAN07502308501348\":1}      199.462366   \n",
       "89                            {\"EAN00733810238652\":1}      175.096774   \n",
       "\n",
       "    Inv Total    required  \n",
       "75      466.0    0.000000  \n",
       "76        0.0    0.000000  \n",
       "77        0.0    0.000000  \n",
       "78        0.0    0.000000  \n",
       "79        0.0    0.000000  \n",
       "80      391.0    5.002151  \n",
       "81      271.0    6.284946  \n",
       "82        0.0    0.000000  \n",
       "83        0.0    0.000000  \n",
       "84        0.0    0.000000  \n",
       "85        0.0    0.000000  \n",
       "86     1065.0   10.004301  \n",
       "87     1251.0   12.507527  \n",
       "88      853.0   19.946237  \n",
       "89        0.0  192.606452  "
      ]
     },
     "execution_count": 151,
     "metadata": {},
     "output_type": "execute_result"
    }
   ],
   "source": [
    "mm_df[mm_df.Family == 'Negro Lineas Horizontales']"
   ]
  },
  {
   "cell_type": "code",
   "execution_count": 117,
   "id": "76d9c830-bcb6-4b22-8493-76a04acd44fc",
   "metadata": {},
   "outputs": [
    {
     "data": {
      "text/plain": [
       "['Gris Lineas Horizontales',\n",
       " 'Azul Recto',\n",
       " 'Negro Lineas Horizontales',\n",
       " 'Tulip Blanco',\n",
       " 'Tulip Gris',\n",
       " 'Negro Cruzado Nuevo',\n",
       " 'Azul Cruzado Nuevo',\n",
       " 'Plateado Cruzado Nuevo',\n",
       " 'Rojo Cruzado Nuevo',\n",
       " 'Tulip Negro',\n",
       " 'Basica Gris',\n",
       " 'Basica Blanco',\n",
       " 'Basica Roja']"
      ]
     },
     "execution_count": 117,
     "metadata": {},
     "output_type": "execute_result"
    }
   ],
   "source": [
    "list(components.Family.unique())"
   ]
  },
  {
   "cell_type": "code",
   "execution_count": 152,
   "id": "fe0f7dda-265d-48c7-ad8e-952c4d1606b3",
   "metadata": {
    "tags": []
   },
   "outputs": [],
   "source": [
    "#Vars\n",
    "for family in list(components.Family.unique()):\n",
    "#for family in ['Negro Lineas Horizontales']:\n",
    "    m = Model(name='maquila allocation')\n",
    "    sub_df = mm_df[(mm_df.Family == family) & (mm_df.required > 0)]\n",
    "    total_required = sub_df.required.sum()\n",
    "    all_family_eans = list(mm_df[(mm_df.Family == family) & (mm_df.required > 0)]['EAN Sales'])\n",
    "    comp = list(components[components.Family == family]['EAN_TEXT'])\n",
    "    eans = []\n",
    "    if total_required > 0:\n",
    "        for item in all_family_eans:\n",
    "            item_components = list(json.loads(list(mm_df[mm_df['EAN Sales'] == item]['Components Dict'].values)[0]))\n",
    "            #print(item_components)\n",
    "            if all(item in comp for item in item_components):\n",
    "                eans.append(item)\n",
    "\n",
    "        model_variables = eans\n",
    "        req_variables = []\n",
    "        avail_variables = []\n",
    "\n",
    "        #Model Variables\n",
    "        for ean in eans:\n",
    "            ean = m.integer_var(name=f'{ean}')\n",
    "\n",
    "        #Requirement Variables (Forecast - Current Iventory)\n",
    "        for ean in eans:\n",
    "            name1 = f'req_{ean}'\n",
    "            value1 = mm_df[mm_df['EAN Sales'] == ean]['required'].max()\n",
    "            exec(f'{name1} = {value1}')\n",
    "            req_variables.append(name1)\n",
    "            #print(f'{name1} = {globals()[name1]}')\n",
    "\n",
    "        #Availability Variables (current individual components availability)\n",
    "        for c in comp:\n",
    "            name2 = f'avail_{c}'\n",
    "            value2 = components[components.EAN_TEXT == c]['Available_Dist'].max()\n",
    "            exec(f'{name2} = {value2}')\n",
    "            avail_variables.append(name2)\n",
    "            #print(f'{name2} = {globals()[name2]}')\n",
    "\n",
    "        #Restrictions\n",
    "        def cons(ean):\n",
    "            primary = m.get_var_by_name(ean)\n",
    "            sets = sub_df[(sub_df['EAN Sales'].isin(eans)) & (sub_df['Components Dict'].str.contains(ean)) & (sub_df['Type'] != 'Ind')].reset_index()\n",
    "            eans_sales = list(sets['EAN Sales'])\n",
    "            if primary:\n",
    "                final = primary\n",
    "            else:\n",
    "                final = 0\n",
    "            for i in range(len(eans_sales)):\n",
    "                components_dict = json.loads(sets.iloc[i]['Components Dict'])\n",
    "                comp_qty = components_dict[ean]\n",
    "                final+=m.get_var_by_name(eans_sales[i])*comp_qty\n",
    "            return final\n",
    "\n",
    "        def min_avail(ean):\n",
    "            primary = m.get_var_by_name(ean)\n",
    "            sets = sub_df[(sub_df['EAN Sales'].isin(eans)) & (sub_df['Components Dict'].str.contains(ean)) & (sub_df['Type'] != 'Ind')].reset_index()\n",
    "            #print(list(sets['EAN Sales']))\n",
    "            prim_comp = []\n",
    "            for i in range(len(sets)):\n",
    "                b = list(json.loads(sets.iloc[i]['Components Dict']).keys())\n",
    "                for ii in range(len(b)):\n",
    "                    prim_comp.append(b[ii])\n",
    "            prim_comp = list(set(prim_comp))\n",
    "            vals = []\n",
    "            if len(prim_comp) >0:\n",
    "                for iii in prim_comp:\n",
    "                    vals.append(globals()[f'avail_{iii}'])\n",
    "                return vals\n",
    "            else:\n",
    "                pass\n",
    "\n",
    "        for c in comp:\n",
    "            m.add_constraint(cons(c) == globals()[f'avail_{c}'])\n",
    "            if min_avail(c):\n",
    "                m.add_constraint(cons(c) >= m.min(min_avail(c)))\n",
    "\n",
    "        #Optimization Equation\n",
    "        def min_array(list):\n",
    "            min_array = []\n",
    "            for ean in list:\n",
    "                value = m.get_var_by_name(ean)/globals()[f'req_{ean}']\n",
    "                min_array.append(value)\n",
    "            return min_array\n",
    "\n",
    "        m.maximize(m.min(min_array(eans)))\n",
    "\n",
    "        #Model Solver + Concat to Inv DataFrame\n",
    "        sol = m.solve()\n",
    "        solutions = sol.__as_df__()\n",
    "        solutions = solutions[solutions.name.str.contains('EAN')]\n",
    "        solutions.rename(columns={'name': 'EAN_TEXT', 'value': 'Virtual Inventory - Maquila'}, inplace=True)\n",
    "        inv = pd.concat([inv, solutions])\n"
   ]
  },
  {
   "cell_type": "code",
   "execution_count": 153,
   "id": "c563ea29-f4d2-418d-998d-91b4dc043a5b",
   "metadata": {},
   "outputs": [
    {
     "data": {
      "text/html": [
       "<div>\n",
       "<style scoped>\n",
       "    .dataframe tbody tr th:only-of-type {\n",
       "        vertical-align: middle;\n",
       "    }\n",
       "\n",
       "    .dataframe tbody tr th {\n",
       "        vertical-align: top;\n",
       "    }\n",
       "\n",
       "    .dataframe thead th {\n",
       "        text-align: right;\n",
       "    }\n",
       "</style>\n",
       "<table border=\"1\" class=\"dataframe\">\n",
       "  <thead>\n",
       "    <tr style=\"text-align: right;\">\n",
       "      <th></th>\n",
       "      <th>name</th>\n",
       "      <th>value</th>\n",
       "    </tr>\n",
       "  </thead>\n",
       "  <tbody>\n",
       "    <tr>\n",
       "      <th>0</th>\n",
       "      <td>EAN07752542831804</td>\n",
       "      <td>232.000000</td>\n",
       "    </tr>\n",
       "    <tr>\n",
       "      <th>1</th>\n",
       "      <td>EAN00733810238751</td>\n",
       "      <td>83.000000</td>\n",
       "    </tr>\n",
       "    <tr>\n",
       "      <th>2</th>\n",
       "      <td>EAN00733810237969</td>\n",
       "      <td>1112.000000</td>\n",
       "    </tr>\n",
       "    <tr>\n",
       "      <th>3</th>\n",
       "      <td>EAN07506134951858</td>\n",
       "      <td>60.000000</td>\n",
       "    </tr>\n",
       "    <tr>\n",
       "      <th>4</th>\n",
       "      <td>x5</td>\n",
       "      <td>2.726101</td>\n",
       "    </tr>\n",
       "    <tr>\n",
       "      <th>5</th>\n",
       "      <td>x6</td>\n",
       "      <td>2.706427</td>\n",
       "    </tr>\n",
       "    <tr>\n",
       "      <th>6</th>\n",
       "      <td>x7</td>\n",
       "      <td>2.699248</td>\n",
       "    </tr>\n",
       "    <tr>\n",
       "      <th>7</th>\n",
       "      <td>x8</td>\n",
       "      <td>2.736770</td>\n",
       "    </tr>\n",
       "    <tr>\n",
       "      <th>8</th>\n",
       "      <td>_min8</td>\n",
       "      <td>2.699248</td>\n",
       "    </tr>\n",
       "    <tr>\n",
       "      <th>9</th>\n",
       "      <td>x12</td>\n",
       "      <td>1.000000</td>\n",
       "    </tr>\n",
       "  </tbody>\n",
       "</table>\n",
       "</div>"
      ],
      "text/plain": [
       "                name        value\n",
       "0  EAN07752542831804   232.000000\n",
       "1  EAN00733810238751    83.000000\n",
       "2  EAN00733810237969  1112.000000\n",
       "3  EAN07506134951858    60.000000\n",
       "4                 x5     2.726101\n",
       "5                 x6     2.706427\n",
       "6                 x7     2.699248\n",
       "7                 x8     2.736770\n",
       "8              _min8     2.699248\n",
       "9                x12     1.000000"
      ]
     },
     "execution_count": 153,
     "metadata": {},
     "output_type": "execute_result"
    }
   ],
   "source": [
    "sol.__as_df__()"
   ]
  },
  {
   "cell_type": "code",
   "execution_count": 154,
   "id": "903a886f-f43d-4d5a-b4a9-2be575677f7d",
   "metadata": {},
   "outputs": [
    {
     "data": {
      "text/plain": [
       "'/tmp/maquila_allocation.lp'"
      ]
     },
     "execution_count": 154,
     "metadata": {},
     "output_type": "execute_result"
    }
   ],
   "source": [
    "m.export_as_lp()"
   ]
  },
  {
   "cell_type": "code",
   "execution_count": 134,
   "id": "fee60a5b-d4b8-4a6b-a39c-5e1cf1bb6e8a",
   "metadata": {},
   "outputs": [
    {
     "ename": "AttributeError",
     "evalue": "'Model' object has no attribute '__as_df__'",
     "output_type": "error",
     "traceback": [
      "\u001b[0;31m---------------------------------------------------------------------------\u001b[0m",
      "\u001b[0;31mAttributeError\u001b[0m                            Traceback (most recent call last)",
      "\u001b[0;32m/tmp/ipykernel_15658/1728548633.py\u001b[0m in \u001b[0;36m<module>\u001b[0;34m\u001b[0m\n\u001b[0;32m----> 1\u001b[0;31m \u001b[0mm\u001b[0m\u001b[0;34m.\u001b[0m\u001b[0m__as_df__\u001b[0m\u001b[0;34m(\u001b[0m\u001b[0;34m)\u001b[0m\u001b[0;34m\u001b[0m\u001b[0;34m\u001b[0m\u001b[0m\n\u001b[0m",
      "\u001b[0;31mAttributeError\u001b[0m: 'Model' object has no attribute '__as_df__'"
     ]
    }
   ],
   "source": [
    "m.__as_df__()"
   ]
  },
  {
   "cell_type": "code",
   "execution_count": 158,
   "id": "20b68476-3713-438d-ab53-e146f4430517",
   "metadata": {},
   "outputs": [
    {
     "data": {
      "text/html": [
       "<div>\n",
       "<style scoped>\n",
       "    .dataframe tbody tr th:only-of-type {\n",
       "        vertical-align: middle;\n",
       "    }\n",
       "\n",
       "    .dataframe tbody tr th {\n",
       "        vertical-align: top;\n",
       "    }\n",
       "\n",
       "    .dataframe thead th {\n",
       "        text-align: right;\n",
       "    }\n",
       "</style>\n",
       "<table border=\"1\" class=\"dataframe\">\n",
       "  <thead>\n",
       "    <tr style=\"text-align: right;\">\n",
       "      <th></th>\n",
       "      <th>EAN_TEXT</th>\n",
       "      <th>Item Name</th>\n",
       "      <th>Brand</th>\n",
       "      <th>Variant</th>\n",
       "      <th>Meli_Full_Available</th>\n",
       "      <th>Meli_Full_Unavailable</th>\n",
       "      <th>Meli_Full_Total</th>\n",
       "      <th>Linio_Available</th>\n",
       "      <th>Homecenter Available</th>\n",
       "      <th>DHL Available</th>\n",
       "      <th>DHL Pending Maquila</th>\n",
       "      <th>DHL Raw Materials</th>\n",
       "      <th>DHL Spare Parts</th>\n",
       "      <th>Virtual Inventory - Maquila</th>\n",
       "      <th>DHL Available Post Maquila</th>\n",
       "    </tr>\n",
       "  </thead>\n",
       "  <tbody>\n",
       "    <tr>\n",
       "      <th>145</th>\n",
       "      <td>EAN07502308501188</td>\n",
       "      <td>Set Kit 2 Maletas Rigidas Grande Bodega Mano 4...</td>\n",
       "      <td>Travel Elite</td>\n",
       "      <td>Negro Lineas Horizontales</td>\n",
       "      <td>41.0</td>\n",
       "      <td>0.0</td>\n",
       "      <td>41.0</td>\n",
       "      <td>9.0</td>\n",
       "      <td>0.0</td>\n",
       "      <td>341.0</td>\n",
       "      <td>0.0</td>\n",
       "      <td>0.0</td>\n",
       "      <td>0.0</td>\n",
       "      <td>1242.0</td>\n",
       "      <td>1583.0</td>\n",
       "    </tr>\n",
       "  </tbody>\n",
       "</table>\n",
       "</div>"
      ],
      "text/plain": [
       "              EAN_TEXT                                          Item Name  \\\n",
       "145  EAN07502308501188  Set Kit 2 Maletas Rigidas Grande Bodega Mano 4...   \n",
       "\n",
       "            Brand                    Variant  Meli_Full_Available  \\\n",
       "145  Travel Elite  Negro Lineas Horizontales                 41.0   \n",
       "\n",
       "     Meli_Full_Unavailable  Meli_Full_Total  Linio_Available  \\\n",
       "145                    0.0             41.0              9.0   \n",
       "\n",
       "     Homecenter Available  DHL Available  DHL Pending Maquila  \\\n",
       "145                   0.0          341.0                  0.0   \n",
       "\n",
       "     DHL Raw Materials  DHL Spare Parts  Virtual Inventory - Maquila  \\\n",
       "145                0.0              0.0                       1242.0   \n",
       "\n",
       "     DHL Available Post Maquila  \n",
       "145                      1583.0  "
      ]
     },
     "execution_count": 158,
     "metadata": {},
     "output_type": "execute_result"
    }
   ],
   "source": [
    "inv[inv.EAN_TEXT == 'EAN07502308501188']"
   ]
  },
  {
   "cell_type": "code",
   "execution_count": 156,
   "id": "5813a9f7-803c-454f-95c9-c032ecac5dbf",
   "metadata": {},
   "outputs": [],
   "source": [
    "ean_details = inv[inv.Brand.isnull() == False][['EAN_TEXT', 'Item Name', 'Brand']]"
   ]
  },
  {
   "cell_type": "code",
   "execution_count": 157,
   "id": "6fa01376-1d25-4444-b0df-69ca50128931",
   "metadata": {},
   "outputs": [],
   "source": [
    "inv.drop(columns=['Brand', 'Item Name'], inplace=True)\n",
    "inv = inv.reset_index(drop=True)\n",
    "inv = inv.fillna(0)\n",
    "inv = inv.groupby('EAN_TEXT').sum().reset_index()\n",
    "inv = inv.merge(mm_df[['EAN Sales', 'Family', 'Daily_Forecast', 'required', 'Description', 'Brand']], how='left', left_on='EAN_TEXT', right_on='EAN Sales')\n",
    "inv = inv.merge(ean_details, how='left', on='EAN_TEXT')\n",
    "inv['Brand_y'] = inv['Brand_y'].fillna(inv['Brand_x'])\n",
    "inv['Item Name'] = inv['Item Name'].fillna(inv['Description'])\n",
    "inv.drop(columns=['Brand_x', 'Description', 'EAN Sales'], inplace=True)\n",
    "inv.rename(columns={'Brand_y':'Brand', 'Family':'Variant', 'Daily_Forecast':'Forecast Period'}, inplace=True)\n",
    "inv['DHL Available Post Maquila'] = inv['DHL Available'] + inv['Virtual Inventory - Maquila']\n",
    "inv = inv[['EAN_TEXT', \n",
    "           'Item Name', \n",
    "           'Brand', \n",
    "           'Variant', \n",
    "           'Meli_Full_Available', \n",
    "           'Meli_Full_Unavailable',\n",
    "           'Meli_Full_Total',\n",
    "           'Linio_Available',\n",
    "           'Homecenter Available',\n",
    "           'DHL Available',\n",
    "           'DHL Pending Maquila',\n",
    "           'DHL Raw Materials',\n",
    "           'DHL Spare Parts', \n",
    "           'Virtual Inventory - Maquila', \n",
    "           'DHL Available Post Maquila',\n",
    "           #'Forecast Period', \n",
    "           #'required'\n",
    "          ]]"
   ]
  },
  {
   "cell_type": "code",
   "execution_count": 159,
   "id": "a24d17f2-975b-4fdc-aba7-2c40aa4cb4f0",
   "metadata": {},
   "outputs": [],
   "source": [
    "inv['Date'] = pd.to_datetime(datetime.today().astimezone(local_tz).strftime('%Y%m%d'))"
   ]
  },
  {
   "cell_type": "code",
   "execution_count": 160,
   "id": "fcfcbf83-3a8d-4a95-bb37-bd20412eec22",
   "metadata": {},
   "outputs": [],
   "source": [
    "inventory_for_buyplan = inv.copy()\n",
    "inventory_for_buyplan['Total Available']  = inventory_for_buyplan['DHL Available Post Maquila'] + inventory_for_buyplan['Meli_Full_Available'] + inventory_for_buyplan['Linio_Available'] + inventory_for_buyplan['Homecenter Available']"
   ]
  },
  {
   "cell_type": "code",
   "execution_count": 161,
   "id": "a3c40601-a509-4214-8260-891970fa094d",
   "metadata": {
    "tags": []
   },
   "outputs": [],
   "source": [
    "base = base.merge(inventory_for_buyplan[['EAN_TEXT', 'Variant', 'Meli_Full_Available',\n",
    "       'Meli_Full_Unavailable', 'Meli_Full_Total', 'Linio_Available',\n",
    "       'Homecenter Available', 'DHL Available', 'DHL Pending Maquila',\n",
    "       'DHL Raw Materials', 'DHL Spare Parts',\n",
    "       'Virtual Inventory - Maquila', 'DHL Available Post Maquila', 'Date',\n",
    "       'Total Available']], how='left', left_on=['EAN_TEXT', 'Date'], right_on=['EAN_TEXT', 'Date'])"
   ]
  },
  {
   "cell_type": "code",
   "execution_count": 162,
   "id": "f041e47e-eed8-43cd-bb10-538ec3f4964e",
   "metadata": {},
   "outputs": [],
   "source": [
    "base = base.sort_values(by=['EAN_TEXT', 'Date'], ascending=[True, True]).reset_index().drop(columns=['index'])"
   ]
  },
  {
   "cell_type": "code",
   "execution_count": 163,
   "id": "95ccc2ea-3f41-4c86-8d25-87f1502951a0",
   "metadata": {},
   "outputs": [],
   "source": [
    "base['Total Available'] = base['Total Available'].fillna(0)"
   ]
  },
  {
   "cell_type": "markdown",
   "id": "635251a2-3d81-4af5-ae2c-ae138f53dadc",
   "metadata": {},
   "source": [
    "# POs"
   ]
  },
  {
   "cell_type": "code",
   "execution_count": 164,
   "id": "6b784188-9e7d-41ff-bc76-5b3f918994fe",
   "metadata": {},
   "outputs": [],
   "source": [
    "pos = pd.read_csv('e2e_sourcing.csv', encoding = \"ISO-8859-1\")\n",
    "pos = pos[(pos['ships_to.country'] == 'CO') & ((pos['status'] == 'active') | (pos['status'] == 'shipped'))]"
   ]
  },
  {
   "cell_type": "code",
   "execution_count": 165,
   "id": "25a380a1-7f89-4ad6-95f4-3c47185cffba",
   "metadata": {},
   "outputs": [],
   "source": [
    "pos['sku'] = pos['sku'].fillna('').astype(str)\n",
    "pos['sku'] = pos['sku'].str.strip()\n",
    "pos['EAN_TEXT'] = \"EAN\"+(\"000000000\"+pos['sku']).str[-14:]\n",
    "pos = pos.dropna(subset='best_eta')\n",
    "pos['best_eta'] = pd.to_datetime(pos['best_eta'])\n",
    "pos = pos.reset_index().drop(columns='index')\n",
    "pos['name_y'] = pos['name_y'].str.replace('\\n',' ', regex=False)"
   ]
  },
  {
   "cell_type": "code",
   "execution_count": 166,
   "id": "e6c4361e-06db-4d74-b7e7-76cb98f42a03",
   "metadata": {
    "tags": []
   },
   "outputs": [],
   "source": [
    "mm2_df = pd.read_excel('maquila_master_co.xlsx')\n",
    "mm2_df = mm2_df.merge(df_forecast_365D, how='left', left_on='EAN Sales', right_on='EAN_TEXT').drop(columns='EAN_TEXT')\n",
    "mm2_df['Daily_Forecast'] = mm2_df['Daily_Forecast'].fillna(0)\n",
    "mm2_df = mm2_df.merge(inv[['EAN_TEXT', 'Meli_Full_Available', 'Linio_Available', 'Homecenter Available', 'DHL Available Post Maquila']], how='left', left_on='EAN Sales', right_on='EAN_TEXT').drop(columns='EAN_TEXT')\n",
    "mm2_df['Inv Total'] = mm2_df[['Meli_Full_Available', 'Linio_Available', 'Homecenter Available', 'DHL Available Post Maquila']].fillna(0).sum(axis=1)\n",
    "mm2_df.drop(columns=['Meli_Full_Available', 'Linio_Available', 'Homecenter Available', 'DHL Available Post Maquila'], inplace=True)\n",
    "def required(row, safe=0.1):\n",
    "    return np.maximum(row['Daily_Forecast'] - row['Inv Total'], 0) + safe*row['Daily_Forecast']\n",
    "mm2_df['required'] = mm2_df.apply(lambda row: required(row), axis=1)"
   ]
  },
  {
   "cell_type": "code",
   "execution_count": 167,
   "id": "fda0e322-1e44-4162-bebe-91b266424aec",
   "metadata": {},
   "outputs": [],
   "source": [
    "maquila_eans = list(set(mm2_df['EAN Sales']))\n",
    "pos_to_distribute = pos[pos.EAN_TEXT.isin(maquila_eans)].reset_index(drop=True)"
   ]
  },
  {
   "cell_type": "code",
   "execution_count": 168,
   "id": "9af542f8-d467-418a-aa16-487c6d8ea826",
   "metadata": {
    "tags": []
   },
   "outputs": [],
   "source": [
    "added_rows = []\n",
    "for i in range(len(pos_to_distribute)):\n",
    "    m = Model(name='maquila PO allocation')\n",
    "    row = pos_to_distribute.iloc[i].to_dict()\n",
    "    ean_to_distribute = pos_to_distribute.iloc[i]['EAN_TEXT']\n",
    "    family = mm2_df[mm2_df['EAN Sales'] == ean_to_distribute]['Family'].values[0]\n",
    "    sub_df = mm2_df[(mm2_df.Family == family) & (mm2_df.required > 0)]\n",
    "    all_family_eans = list(mm2_df[(mm2_df.Family == family) & (mm2_df.required > 0)]['EAN Sales'])\n",
    "    ean_to_distribute_components = list(json.loads(list(mm2_df[mm2_df['EAN Sales'] == ean_to_distribute]['Components Dict'].values)[0]))\n",
    "    available_components_quantity = pos_to_distribute.iloc[i]['quantity']\n",
    "    eans = []\n",
    "    for item in all_family_eans:\n",
    "        item_components = list(json.loads(list(mm2_df[mm2_df['EAN Sales'] == item]['Components Dict'].values)[0]))\n",
    "        if all(item in ean_to_distribute_components for item in item_components):\n",
    "            eans.append(item)\n",
    "\n",
    "     #Model Variables\n",
    "    for ean in eans:\n",
    "        ean = m.integer_var(name=f'{ean}')\n",
    "\n",
    "    #Requirement Variables (Forecast - Current Iventory)\n",
    "    for ean in eans:\n",
    "        name1 = f'req_{ean}'\n",
    "        value1 = mm2_df[mm2_df['EAN Sales'] == ean]['required'].max()\n",
    "        exec(f'{name1} = {value1}')\n",
    "        req_variables.append(name1)\n",
    "\n",
    "    #Availability Variables (current individual components availability)\n",
    "    for c in ean_to_distribute_components:\n",
    "        name2 = f'avail_{c}'\n",
    "        value2 = available_components_quantity\n",
    "        exec(f'{name2} = {value2}')\n",
    "        avail_variables.append(name2)\n",
    "        #print(f'{name2} = {globals()[name2]}')\n",
    "\n",
    "    #Restrictions\n",
    "    def cons(ean):\n",
    "        primary = m.get_var_by_name(ean)\n",
    "        sets = sub_df[(sub_df['EAN Sales'].isin(eans)) & (sub_df['Components Dict'].str.contains(ean)) & (sub_df['Type'] != 'Ind')].reset_index()\n",
    "        eans_sales = list(sets['EAN Sales'])\n",
    "        if primary:\n",
    "            final = primary\n",
    "        else:\n",
    "            final = 0\n",
    "        for i in range(len(eans_sales)):\n",
    "            components_dict = json.loads(sets.iloc[i]['Components Dict'])\n",
    "            comp_qty = components_dict[ean]\n",
    "            final+=m.get_var_by_name(eans_sales[i])*comp_qty\n",
    "        return final\n",
    "\n",
    "    def min_avail(ean):\n",
    "        primary = m.get_var_by_name(ean)\n",
    "        sets = sub_df[(sub_df['EAN Sales'].isin(eans)) & (sub_df['Components Dict'].str.contains(ean)) & (sub_df['Type'] != 'Ind')].reset_index()\n",
    "        #print(list(sets['EAN Sales']))\n",
    "        prim_comp = []\n",
    "        for i in range(len(sets)):\n",
    "            b = list(json.loads(sets.iloc[i]['Components Dict']).keys())\n",
    "            for ii in range(len(b)):\n",
    "                prim_comp.append(b[ii])\n",
    "        prim_comp = list(set(prim_comp))\n",
    "        vals = []\n",
    "        if len(prim_comp) >0:\n",
    "            for iii in prim_comp:\n",
    "                vals.append(globals()[f'avail_{iii}'])\n",
    "            return vals\n",
    "        else:\n",
    "            pass\n",
    "\n",
    "    for c in ean_to_distribute_components:\n",
    "        m.add_constraint(cons(c) == globals()[f'avail_{c}'])\n",
    "        if min_avail(c):\n",
    "            m.add_constraint(cons(c) >= m.min(min_avail(c)))\n",
    "\n",
    "    #Optimization Equation\n",
    "    def min_array(list):\n",
    "        min_array = []\n",
    "        for ean in list:\n",
    "            value = m.get_var_by_name(ean)/globals()[f'req_{ean}']\n",
    "            min_array.append(value)\n",
    "        return min_array\n",
    "\n",
    "    m.maximize(m.min(min_array(eans)))\n",
    "\n",
    "    sol = m.solve()\n",
    "    solutions = sol.__as_df__()\n",
    "    solutions = solutions[solutions.name.str.contains('EAN')]\n",
    "    m.end()\n",
    "\n",
    "    for i_sol in range(len(solutions)):\n",
    "        total_available = len(ean_to_distribute_components)*available_components_quantity\n",
    "        ean_to_distribute_components_count = len(ean_to_distribute_components)\n",
    "        number_of_components = len(list(json.loads(list(mm2_df[mm2_df['EAN Sales'] == solutions.iloc[i_sol]['name']]['Components Dict'].values)[0])))\n",
    "        desc = mm2_df[mm2_df['EAN Sales'] == solutions.iloc[i_sol]['name']]['Description'].values[0]\n",
    "        new_row = row.copy()\n",
    "        new_row['name_y'] = desc\n",
    "        new_row['sku'] = solutions.iloc[i_sol]['name'][-13:]\n",
    "        new_row['EAN_TEXT'] = solutions.iloc[i_sol]['name']\n",
    "        new_row['quantity'] = solutions.iloc[i_sol]['value']\n",
    "        new_row['total_cost'] = new_row['unit_price']/ean_to_distribute_components_count*solutions.iloc[i_sol]['value']*number_of_components\n",
    "        new_row['unit_price'] = new_row['total_cost']/new_row['quantity']\n",
    "        added_rows.append(new_row)\n"
   ]
  },
  {
   "cell_type": "code",
   "execution_count": 169,
   "id": "ca083336-35ab-4f7e-a7c8-6acdc374ff56",
   "metadata": {},
   "outputs": [],
   "source": [
    "maquila_pos = pd.DataFrame(added_rows)\n",
    "maquila_pos['maquila'] = 'yes'"
   ]
  },
  {
   "cell_type": "code",
   "execution_count": 170,
   "id": "4667c731-900f-49c3-bf8c-a2376cf7b0df",
   "metadata": {},
   "outputs": [
    {
     "name": "stderr",
     "output_type": "stream",
     "text": [
      "/tmp/ipykernel_15658/3895101850.py:2: SettingWithCopyWarning: \n",
      "A value is trying to be set on a copy of a slice from a DataFrame.\n",
      "Try using .loc[row_indexer,col_indexer] = value instead\n",
      "\n",
      "See the caveats in the documentation: https://pandas.pydata.org/pandas-docs/stable/user_guide/indexing.html#returning-a-view-versus-a-copy\n",
      "  nonmaquila_pos['maquila'] = 'no'\n"
     ]
    }
   ],
   "source": [
    "nonmaquila_pos = pos[pos.EAN_TEXT.isin(maquila_eans) == False]\n",
    "nonmaquila_pos['maquila'] = 'no'"
   ]
  },
  {
   "cell_type": "code",
   "execution_count": 171,
   "id": "68d1c23c-a145-4b2b-9206-30a64c7f93d8",
   "metadata": {},
   "outputs": [],
   "source": [
    "pos_dist = pd.concat([maquila_pos, nonmaquila_pos]).reset_index(drop=True)"
   ]
  },
  {
   "cell_type": "code",
   "execution_count": 172,
   "id": "39304857-6993-4fd4-b736-1fb64d2ea157",
   "metadata": {},
   "outputs": [],
   "source": [
    "current_day = datetime.today().astimezone(local_tz).strftime('%Y%m%d')\n",
    "pos_dist.to_csv(f'{current_day}_pos_dist.csv')"
   ]
  },
  {
   "cell_type": "code",
   "execution_count": 173,
   "id": "add1291a-259c-435a-9139-23e707cda779",
   "metadata": {},
   "outputs": [],
   "source": [
    "pos_dist_by_date = pos_dist[['EAN_TEXT', 'best_eta', 'quantity', 'maquila']].groupby(['EAN_TEXT', 'best_eta', 'maquila']).sum().reset_index()"
   ]
  },
  {
   "cell_type": "code",
   "execution_count": 174,
   "id": "2e3fd979-ec0d-4957-bf70-ff43a7b9f9ad",
   "metadata": {},
   "outputs": [],
   "source": [
    "base = base.merge(pos_dist_by_date, how='left', left_on=['EAN_TEXT', 'Date'], right_on=['EAN_TEXT', 'best_eta'])"
   ]
  },
  {
   "cell_type": "code",
   "execution_count": 175,
   "id": "eb4657c8-a281-4503-a745-3e22955f3f54",
   "metadata": {},
   "outputs": [
    {
     "data": {
      "text/plain": [
       "Index(['EAN_TEXT', 'Date', 'Year', 'Month', 'Daily_Forecast', 'Variant',\n",
       "       'Meli_Full_Available', 'Meli_Full_Unavailable', 'Meli_Full_Total',\n",
       "       'Linio_Available', 'Homecenter Available', 'DHL Available',\n",
       "       'DHL Pending Maquila', 'DHL Raw Materials', 'DHL Spare Parts',\n",
       "       'Virtual Inventory - Maquila', 'DHL Available Post Maquila',\n",
       "       'Total Available', 'best_eta', 'maquila', 'quantity'],\n",
       "      dtype='object')"
      ]
     },
     "execution_count": 175,
     "metadata": {},
     "output_type": "execute_result"
    }
   ],
   "source": [
    "base.columns"
   ]
  },
  {
   "cell_type": "code",
   "execution_count": 176,
   "id": "97f14ff5-8395-4093-b938-56611f0f94a8",
   "metadata": {},
   "outputs": [],
   "source": [
    "base = base[['EAN_TEXT', 'Date', 'Year',\n",
    "       'Month', 'Daily_Forecast', 'Total Available', 'quantity', 'maquila']]\n",
    "base = base.rename(columns={'quantity':'Scheduled Arrivals'})"
   ]
  },
  {
   "cell_type": "code",
   "execution_count": 177,
   "id": "e487df43-6d9c-4bb6-bead-65d1425ef347",
   "metadata": {},
   "outputs": [],
   "source": [
    "base['Scheduled Arrivals'] = base['Scheduled Arrivals'].fillna(0)\n",
    "base['Daily_Forecast'] = base['Daily_Forecast'].fillna(0)"
   ]
  },
  {
   "cell_type": "code",
   "execution_count": 178,
   "id": "42839968-c524-4e7e-bab6-ed6428d2b2d8",
   "metadata": {},
   "outputs": [],
   "source": [
    "eans = list(base.EAN_TEXT.unique())\n"
   ]
  },
  {
   "cell_type": "code",
   "execution_count": 179,
   "id": "f36ea77a-f711-45b3-ae69-4637df965d4f",
   "metadata": {
    "tags": []
   },
   "outputs": [],
   "source": [
    "base2 = pd.DataFrame()\n",
    "\n",
    "for ean in eans:\n",
    "    ind_base = base[base.EAN_TEXT == ean].reset_index(drop=True)\n",
    "    for i in range(len(ind_base)):\n",
    "        if ind_base.iloc[i]['Date'] == pd.to_datetime(datetime.today().astimezone(local_tz).strftime('%Y%m%d')):                  \n",
    "            ind_base.at[i, 'Total Available'] = np.maximum(0,ind_base.iloc[i]['Total Available'] - ind_base.iloc[i]['Daily_Forecast'] + ind_base.iloc[i]['Scheduled Arrivals'])\n",
    "            ind_base.at[i, 'Total Available Sales'] = np.maximum(0,ind_base.iloc[i]['Total Available'] - ind_base.iloc[i]['Daily_Forecast'])\n",
    "        else:\n",
    "            ind_base.at[i, 'Total Available'] = np.maximum(0,ind_base.iloc[i-1]['Total Available'] - ind_base.iloc[i]['Daily_Forecast'] + ind_base.iloc[i]['Scheduled Arrivals'])\n",
    "            if ind_base.iloc[i]['maquila'] == 'yes':\n",
    "                ind_base.at[i, 'Total Available Sales'] = np.maximum(0,ind_base.iloc[i-1]['Total Available Sales'] - ind_base.iloc[i]['Daily_Forecast'] + ind_base.iloc[i-15]['Scheduled Arrivals'])\n",
    "            else:\n",
    "                ind_base.at[i, 'Total Available Sales'] = np.maximum(0,ind_base.iloc[i-1]['Total Available Sales'] - ind_base.iloc[i]['Daily_Forecast'] + ind_base.iloc[i-7]['Scheduled Arrivals'])\n",
    "    base2 = pd.concat([base2, ind_base])"
   ]
  },
  {
   "cell_type": "code",
   "execution_count": 180,
   "id": "494827c7-1dec-4298-8609-c3aa24b47696",
   "metadata": {},
   "outputs": [],
   "source": [
    "base2 = base2.reset_index(drop=True)"
   ]
  },
  {
   "cell_type": "code",
   "execution_count": 181,
   "id": "ebc92bfe-ce6e-40ec-a148-c545927294dd",
   "metadata": {},
   "outputs": [],
   "source": [
    "base = base2"
   ]
  },
  {
   "cell_type": "markdown",
   "id": "1cc2916b-5169-41c7-bb88-d3ed77644867",
   "metadata": {},
   "source": [
    "# Next OOS"
   ]
  },
  {
   "cell_type": "code",
   "execution_count": 182,
   "id": "654f4d9e-af94-4097-bc78-f6a5ae5e7831",
   "metadata": {},
   "outputs": [],
   "source": [
    "next_oos_date = base[base['Total Available'] > 0]"
   ]
  },
  {
   "cell_type": "code",
   "execution_count": 183,
   "id": "041109d7-2754-4c79-a1c1-8c3d326c7359",
   "metadata": {},
   "outputs": [],
   "source": [
    "next_oos_date = next_oos_date[['EAN_TEXT', 'Date']].groupby(['EAN_TEXT']).max()"
   ]
  },
  {
   "cell_type": "code",
   "execution_count": 184,
   "id": "dff2e865-e43a-489b-8366-8a993c82e88f",
   "metadata": {},
   "outputs": [],
   "source": [
    "next_oos_date = next_oos_date.reset_index()"
   ]
  },
  {
   "cell_type": "markdown",
   "id": "407c9deb-23cc-4691-b499-140793a2d833",
   "metadata": {},
   "source": [
    "# Next OOS - Immediate Next OOS"
   ]
  },
  {
   "cell_type": "code",
   "execution_count": 185,
   "id": "5590bc72-eab5-415a-9b61-b4f34a0624eb",
   "metadata": {},
   "outputs": [],
   "source": [
    "next_oos_cold = base[base['Total Available'] == 0]"
   ]
  },
  {
   "cell_type": "code",
   "execution_count": 186,
   "id": "0bcd6ab4-4308-4f19-b923-7a7be5bd2ee2",
   "metadata": {},
   "outputs": [],
   "source": [
    "next_oos_cold = next_oos_cold[['EAN_TEXT', 'Date']].groupby(['EAN_TEXT']).min()"
   ]
  },
  {
   "cell_type": "code",
   "execution_count": 187,
   "id": "b6323d60-1740-4e8b-863a-520876315131",
   "metadata": {},
   "outputs": [],
   "source": [
    "next_oos_cold = next_oos_cold.reset_index()"
   ]
  },
  {
   "cell_type": "markdown",
   "id": "5cba6fdc-8d91-463b-a758-ead85f92d448",
   "metadata": {},
   "source": [
    "# Leadtime and Priority"
   ]
  },
  {
   "cell_type": "code",
   "execution_count": 188,
   "id": "7dfcc50b-0562-4d25-8ac1-a67a6c609cc8",
   "metadata": {},
   "outputs": [],
   "source": [
    "lt_prior = pd.read_csv('Leadtime Priority Master CO.csv')"
   ]
  },
  {
   "cell_type": "code",
   "execution_count": 189,
   "id": "ad7d7ae0-858c-4868-a25f-2d7f11a3c43f",
   "metadata": {},
   "outputs": [],
   "source": [
    "base = base.merge(lt_prior[['EAN_TEXT', 'Source', 'Leadtime', 'Leadtime ex sourcing', 'Priority', 'Descripcion', 'Brand', 'Status']], how='left', left_on='EAN_TEXT', right_on='EAN_TEXT')"
   ]
  },
  {
   "cell_type": "code",
   "execution_count": 190,
   "id": "b56c1817-3182-47cd-b010-93c5738db207",
   "metadata": {},
   "outputs": [],
   "source": [
    "base['Leadtime'] = base['Leadtime'].fillna(base[base.Priority.isnull() == False]['Leadtime'].mean())"
   ]
  },
  {
   "cell_type": "code",
   "execution_count": 191,
   "id": "84eb829c-7f7e-4af7-b80e-664ece9b7fe8",
   "metadata": {},
   "outputs": [],
   "source": [
    "base[base['Priority'].isnull()].to_csv('inlcude_in_priority.csv')"
   ]
  },
  {
   "cell_type": "code",
   "execution_count": 192,
   "id": "0445d688-53bb-43c9-9ea7-df07cf4b8085",
   "metadata": {},
   "outputs": [],
   "source": [
    "base['Priority'] = base['Priority'].fillna('P1')"
   ]
  },
  {
   "cell_type": "markdown",
   "id": "6a788733-abd5-49a5-82c9-fbe3e0ba0dfa",
   "metadata": {},
   "source": [
    "# Buyplan"
   ]
  },
  {
   "cell_type": "code",
   "execution_count": 193,
   "id": "cc0ee729-8030-4632-8561-a0257d2d7c60",
   "metadata": {},
   "outputs": [],
   "source": [
    "buyplan = base.copy()\n",
    "buyplan = buyplan.dropna(subset='Source')\n",
    "buyplan = buyplan[(buyplan.Date <= '2024-12-31')]"
   ]
  },
  {
   "cell_type": "code",
   "execution_count": 194,
   "id": "9f2feaa3-c7fe-4f81-9d26-46ae13ac1264",
   "metadata": {},
   "outputs": [],
   "source": [
    "## Inputs\n",
    "P0_safety = 15\n",
    "P1_safety = 10\n",
    "P2_safety = 5\n",
    "EANS = buyplan.EAN_TEXT.unique()\n",
    "P0_policy = 45\n",
    "P1_policy = 30\n",
    "P2_policy = 20"
   ]
  },
  {
   "cell_type": "code",
   "execution_count": 195,
   "id": "615a0c20-fce9-4136-954e-092119ce043c",
   "metadata": {
    "tags": []
   },
   "outputs": [],
   "source": [
    "final_bp = []\n",
    "for ean in EANS:\n",
    "    ind_bp = buyplan[buyplan.EAN_TEXT == ean].reset_index(drop=True)\n",
    "    ind_bp['PO Volume'] = 0\n",
    "    ind_bp['Theoretical Arrivals'] = 0\n",
    "    if len(next_oos_date[next_oos_date.EAN_TEXT == ean]['Date'].reset_index(drop=True)) >0:\n",
    "        oos_date = next_oos_date[next_oos_date.EAN_TEXT == ean]['Date'].reset_index(drop=True)\n",
    "    else:\n",
    "        oos_date = pd.to_datetime(datetime.today().astimezone(local_tz).strftime('%Y%m%d'))\n",
    "    priority = ind_bp.iloc[0]['Priority']\n",
    "    if ind_bp.iloc[0]['Source'] == 'Import':\n",
    "        leadtime = ind_bp['Leadtime'].max() + 30\n",
    "    else:\n",
    "        leadtime = ind_bp['Leadtime'].max()\n",
    "    #leadtime = ind_bp['Leadtime'].max()\n",
    "    if priority == 'P0':\n",
    "        safety = P0_safety\n",
    "        policy = P0_policy\n",
    "    elif priority == 'P1':\n",
    "        safety = P1_safety\n",
    "        policy = P1_policy\n",
    "    else:\n",
    "        safety = P2_safety\n",
    "        policy = P2_policy\n",
    "    try:\n",
    "        po_date = oos_date.at[0] - timedelta(days=(safety+leadtime))\n",
    "    except:\n",
    "        po_date = oos_date - timedelta(days=(safety+leadtime))\n",
    "    if po_date < pd.Timestamp(datetime.today().astimezone(local_tz).strftime('%Y%m%d')):\n",
    "        po_date = pd.to_datetime(datetime.today().astimezone(local_tz).strftime('%Y%m%d'))\n",
    "    while po_date < ind_bp.Date.max():\n",
    "        if po_date == pd.to_datetime(datetime.today().astimezone(local_tz).strftime('%Y%m%d')):\n",
    "            po_volume = ind_bp[(ind_bp.Date > po_date + timedelta(days=leadtime)) & (ind_bp.Date <= po_date + timedelta(days=safety+leadtime+policy))]['Daily_Forecast'].sum()\n",
    "        else:\n",
    "            po_volume = ind_bp[(ind_bp.Date > po_date + timedelta(days=safety+leadtime)) & (ind_bp.Date <= po_date + timedelta(days=safety+leadtime+policy))]['Daily_Forecast'].sum()\n",
    "        index = ind_bp.index[ind_bp.Date == po_date].to_list()[0]\n",
    "        ind_bp.at[index, 'PO Volume'] = po_volume\n",
    "        try:\n",
    "            ind_bp.at[index+leadtime, 'Theoretical Arrivals'] = po_volume\n",
    "        except:\n",
    "            pass\n",
    "        po_date = po_date + timedelta(days=policy)\n",
    "    final_bp.append(ind_bp)\n",
    "final_bp = pd.concat(final_bp)"
   ]
  },
  {
   "cell_type": "code",
   "execution_count": 196,
   "id": "c19b0e89-817d-4a9b-afab-2a7ba456cf94",
   "metadata": {},
   "outputs": [],
   "source": [
    "final_bp = final_bp.reset_index(drop=True)"
   ]
  },
  {
   "cell_type": "code",
   "execution_count": 197,
   "id": "a095950a-1198-442e-a365-0b5e0f485d5f",
   "metadata": {},
   "outputs": [],
   "source": [
    "final_bp = final_bp.dropna(subset='EAN_TEXT')"
   ]
  },
  {
   "cell_type": "markdown",
   "id": "b6daabc0-04ea-4f91-8e84-afd201987a14",
   "metadata": {},
   "source": [
    "# All Together"
   ]
  },
  {
   "cell_type": "code",
   "execution_count": 198,
   "id": "0a5b6948-13e6-4e2a-81f4-deb465faf84f",
   "metadata": {},
   "outputs": [],
   "source": [
    "base = base.merge(final_bp[['EAN_TEXT', 'Date', 'PO Volume', 'Theoretical Arrivals']], how='left', left_on=['EAN_TEXT', 'Date'], right_on=['EAN_TEXT', 'Date'])"
   ]
  },
  {
   "cell_type": "code",
   "execution_count": 199,
   "id": "b9d493e7-e150-4da5-811b-6b224374cc36",
   "metadata": {},
   "outputs": [],
   "source": [
    "base['PO Volume'] = base['PO Volume'].fillna(0)\n",
    "base['Theoretical Arrivals'] = base['Theoretical Arrivals'].fillna(0)"
   ]
  },
  {
   "cell_type": "code",
   "execution_count": 200,
   "id": "004a8453-cc29-42e7-aadc-190ce1b01f2d",
   "metadata": {},
   "outputs": [],
   "source": [
    "for i in range(len(base)):\n",
    "    if base.iloc[i]['Date'] == pd.to_datetime(datetime.today().astimezone(local_tz).strftime('%Y%m%d')):                  \n",
    "        base.at[i, 'Modeled Available'] = np.maximum(0,base.iloc[i]['Total Available'] + base.iloc[i]['Theoretical Arrivals'])\n",
    "    else:\n",
    "        base.at[i, 'Modeled Available'] = np.maximum(0,base.iloc[i-1]['Modeled Available'] - base.iloc[i]['Daily_Forecast'] + base.iloc[i]['Scheduled Arrivals'] + base.iloc[i]['Theoretical Arrivals'])"
   ]
  },
  {
   "cell_type": "code",
   "execution_count": 201,
   "id": "ddbde6a4-2c91-4c4b-ba85-744241c30b70",
   "metadata": {},
   "outputs": [],
   "source": [
    "base['Forecasted Sales'] = np.minimum(base['Total Available Sales'], base['Daily_Forecast'])"
   ]
  },
  {
   "cell_type": "code",
   "execution_count": 202,
   "id": "0dc03e72-c3ee-43b5-b720-9c8aefe39471",
   "metadata": {},
   "outputs": [],
   "source": [
    "base['Descripcion'] = base['Descripcion'].str.replace('\\n',' ', regex=False)"
   ]
  },
  {
   "cell_type": "code",
   "execution_count": 203,
   "id": "0d98731d-e51c-49fb-bc8d-2b34a862600f",
   "metadata": {
    "tags": []
   },
   "outputs": [],
   "source": [
    "buyplan_co = base[['EAN_TEXT', 'Brand', 'Descripcion', 'Status', 'Year',\n",
    "       'Month', 'Leadtime', 'Leadtime ex sourcing', 'Priority', 'PO Volume']].groupby(['EAN_TEXT', 'Brand', 'Descripcion', 'Status', 'Year',\n",
    "       'Month', 'Leadtime', 'Leadtime ex sourcing', 'Priority']).sum().reset_index()"
   ]
  },
  {
   "cell_type": "code",
   "execution_count": 204,
   "id": "eb3c15eb-cced-4edb-a452-3b88399e3a97",
   "metadata": {},
   "outputs": [],
   "source": [
    "buyplan_co = buyplan_co.pivot(index=['EAN_TEXT', 'Brand', 'Descripcion', 'Status', 'Leadtime', 'Leadtime ex sourcing', 'Priority'], columns=['Year', 'Month'], values='PO Volume').reset_index()"
   ]
  },
  {
   "cell_type": "code",
   "execution_count": 205,
   "id": "76a5edab-2fb5-4b46-aef9-0b5fcbf0d270",
   "metadata": {},
   "outputs": [],
   "source": [
    "buyplan_co.columns = buyplan_co.columns.to_flat_index()"
   ]
  },
  {
   "cell_type": "code",
   "execution_count": 206,
   "id": "72d022be-d5af-4c33-bf38-4af191422095",
   "metadata": {},
   "outputs": [],
   "source": [
    "cols = []\n",
    "for column in buyplan_co.columns:\n",
    "    cols.append(' '.join(map(str,column)).strip())\n",
    "buyplan_co.columns = cols"
   ]
  },
  {
   "cell_type": "code",
   "execution_count": 207,
   "id": "d552d168-1a4e-42f6-a903-3aad549c1868",
   "metadata": {},
   "outputs": [],
   "source": [
    "buyplan_co = buyplan_co.rename(columns={'Status': 'Active'})"
   ]
  },
  {
   "cell_type": "code",
   "execution_count": 208,
   "id": "ae8f718c-7bd2-4141-afe1-b99a78c263ea",
   "metadata": {},
   "outputs": [],
   "source": [
    "buyplan_co = buyplan_co.merge(next_oos_date, how='left', on='EAN_TEXT')"
   ]
  },
  {
   "cell_type": "code",
   "execution_count": 209,
   "id": "16348b9c-597a-423b-9243-ea89345a5058",
   "metadata": {},
   "outputs": [],
   "source": [
    "buyplan_co.rename(columns={'Date':'Predicted OOS Date'}, inplace=True)"
   ]
  },
  {
   "cell_type": "code",
   "execution_count": 210,
   "id": "e618d7bf-ca02-4e4e-a675-ef626524ba0a",
   "metadata": {},
   "outputs": [],
   "source": [
    "buyplan_co = buyplan_co.merge(next_oos_cold, how='left', on='EAN_TEXT')"
   ]
  },
  {
   "cell_type": "code",
   "execution_count": 211,
   "id": "84a6d7b4-ae18-40df-afb6-7ebb87d3d571",
   "metadata": {},
   "outputs": [],
   "source": [
    "buyplan_co.rename(columns={'Date':'Predicted Immediate OOS Date'}, inplace=True)"
   ]
  },
  {
   "cell_type": "code",
   "execution_count": 212,
   "id": "cc90b9bb-e957-44aa-b56a-80650f713bf6",
   "metadata": {},
   "outputs": [],
   "source": [
    "def required_ETA(row):\n",
    "    try:\n",
    "        if row['Priority'] == 'P0':\n",
    "            return row['Predicted OOS Date'] - timedelta(days=P0_safety)\n",
    "        elif row['Priority'] == 'P1':\n",
    "            return row['Predicted OOS Date'] - timedelta(days=P1_safety)\n",
    "        else:\n",
    "            return row['Predicted OOS Date'] - timedelta(days=P2_safety)\n",
    "    except:\n",
    "        return None"
   ]
  },
  {
   "cell_type": "code",
   "execution_count": 213,
   "id": "a3a34849-4e93-471c-b5c1-32a5c575f8c8",
   "metadata": {},
   "outputs": [],
   "source": [
    "buyplan_co['Required_ETA'] = buyplan_co.apply(lambda row: required_ETA(row), axis=1)"
   ]
  },
  {
   "cell_type": "code",
   "execution_count": 214,
   "id": "51c15879-4f78-46ad-87e3-c03544679ecd",
   "metadata": {},
   "outputs": [],
   "source": [
    "buyplan_co['Predicted OOS Date'] = buyplan_co['Predicted OOS Date'].fillna(pd.to_datetime(datetime.today().astimezone(local_tz).strftime('%Y%m%d')))"
   ]
  },
  {
   "cell_type": "code",
   "execution_count": 215,
   "id": "4a02203d-8225-4628-a2d5-076aded46a3b",
   "metadata": {},
   "outputs": [],
   "source": [
    "buyplan_co['Predicted Immediate OOS Date'] = buyplan_co['Predicted Immediate OOS Date'].fillna(pd.to_datetime(datetime.today().astimezone(local_tz).strftime('%Y%m%d')))"
   ]
  },
  {
   "cell_type": "code",
   "execution_count": 216,
   "id": "d6e8f48a-71c4-48cc-8484-ebc4bda151f3",
   "metadata": {},
   "outputs": [],
   "source": [
    "buyplan_co['Required_ETA'] = buyplan_co['Required_ETA'].fillna(pd.to_datetime(datetime.today().astimezone(local_tz).strftime('%Y%m%d')))"
   ]
  },
  {
   "cell_type": "code",
   "execution_count": 217,
   "id": "5e4663ca-9b52-472b-8c92-ee6c88bb0f79",
   "metadata": {},
   "outputs": [],
   "source": [
    "buyplan_co.to_csv(f'{current_day}_buyplan_co.csv', index=False)"
   ]
  },
  {
   "cell_type": "code",
   "execution_count": 218,
   "id": "f23de253-e983-4cf7-8fab-f8339b8753af",
   "metadata": {},
   "outputs": [],
   "source": [
    "forecast1 = pd.read_csv('Forecast.csv')"
   ]
  },
  {
   "cell_type": "code",
   "execution_count": 219,
   "id": "1ce30b3a-2934-4a21-85af-69bce8d1952e",
   "metadata": {},
   "outputs": [],
   "source": [
    "cols_to_keep = ['EAN_TEXT', 'Forecast 2023 3', 'Forecast 2023 4',\n",
    "       'Forecast 2023 5', 'Forecast 2023 6', 'Forecast 2023 7',\n",
    "       'Forecast 2023 8', 'Forecast 2023 9', 'Forecast 2023 10',\n",
    "       'Forecast 2023 11', 'Forecast 2023 12', 'Forecast 2024 1',\n",
    "       'Forecast 2024 2']"
   ]
  },
  {
   "cell_type": "code",
   "execution_count": 220,
   "id": "fd56c1c8-0b53-4309-9f67-31959f3da2d0",
   "metadata": {},
   "outputs": [],
   "source": [
    "forecast1 = forecast1[cols_to_keep]"
   ]
  },
  {
   "cell_type": "code",
   "execution_count": 221,
   "id": "90a595f2-c757-4713-82b2-30493d65ab88",
   "metadata": {},
   "outputs": [],
   "source": [
    "buyplan_co_w_forecast = buyplan_co.merge(forecast1, how='left', left_on='EAN_TEXT', right_on='EAN_TEXT')"
   ]
  },
  {
   "cell_type": "code",
   "execution_count": 222,
   "id": "78003c51-a012-43ef-81ab-2e3c5680f816",
   "metadata": {},
   "outputs": [],
   "source": [
    "buyplan_co_w_forecast = buyplan_co_w_forecast.merge(inventory_for_buyplan[['EAN_TEXT', 'Total Available']], how='left', on='EAN_TEXT')"
   ]
  },
  {
   "cell_type": "code",
   "execution_count": 223,
   "id": "9d6780f9-88d3-440f-b2a7-da1948a6c947",
   "metadata": {},
   "outputs": [],
   "source": [
    "buyplan_co_w_forecast = buyplan_co_w_forecast.rename(columns={'Total Available': 'Total Available Inventory'})"
   ]
  },
  {
   "cell_type": "code",
   "execution_count": 224,
   "id": "ac74c0cb-a3a8-49a6-97da-e22e0b80575a",
   "metadata": {},
   "outputs": [],
   "source": [
    "pos_dist_by_month = pos_dist_by_date.copy()"
   ]
  },
  {
   "cell_type": "code",
   "execution_count": 225,
   "id": "cb584fc1-9b2d-476b-abab-688ef819efca",
   "metadata": {},
   "outputs": [],
   "source": [
    "pos_dist_by_month = pos_dist_by_month[pos_dist_by_month.best_eta > datetime.today() + timedelta(days=-7)]"
   ]
  },
  {
   "cell_type": "code",
   "execution_count": 226,
   "id": "0cfa1af0-e5b4-4cbc-aeeb-d8de484c32e6",
   "metadata": {},
   "outputs": [],
   "source": [
    "pos_dist_by_month = pos_dist_by_month.rename(columns={'quantity': 'Expected Arrivals'})"
   ]
  },
  {
   "cell_type": "code",
   "execution_count": 227,
   "id": "59860f7a-76c2-445d-8a5b-60abf0272e4e",
   "metadata": {},
   "outputs": [],
   "source": [
    "pos_dist_by_month['Month'] = pd.DatetimeIndex(pos_dist_by_month['best_eta']).month\n",
    "pos_dist_by_month['Year'] = pd.DatetimeIndex(pos_dist_by_month['best_eta']).year"
   ]
  },
  {
   "cell_type": "code",
   "execution_count": 228,
   "id": "ab3718f8-995d-42e1-a872-f441033fb71b",
   "metadata": {},
   "outputs": [],
   "source": [
    "pos_dist_by_month = pos_dist_by_month.sort_values(by='best_eta', axis=0, ascending=True)"
   ]
  },
  {
   "cell_type": "code",
   "execution_count": 229,
   "id": "e079371f-9fd3-440a-9c4a-cdde6a40dc2a",
   "metadata": {},
   "outputs": [],
   "source": [
    "pos_dist_by_month = pos_dist_by_month[['EAN_TEXT', 'Month', 'Year', 'Expected Arrivals']].groupby(['EAN_TEXT', 'Month', 'Year']).sum().reset_index()"
   ]
  },
  {
   "cell_type": "code",
   "execution_count": 230,
   "id": "e1955ffb-dab2-48f6-abce-802806d4fc48",
   "metadata": {},
   "outputs": [],
   "source": [
    "pos_dist_by_month = pos_dist_by_month.pivot(index=['EAN_TEXT'], columns=['Year', 'Month'], values=['Expected Arrivals']).reset_index()"
   ]
  },
  {
   "cell_type": "code",
   "execution_count": 231,
   "id": "458a781c-c666-4888-ac51-7a73db7f26b3",
   "metadata": {},
   "outputs": [],
   "source": [
    "cols = []\n",
    "for column in pos_dist_by_month.columns:\n",
    "    cols.append(' '.join(map(str,column)).strip())\n",
    "pos_dist_by_month.columns = cols"
   ]
  },
  {
   "cell_type": "code",
   "execution_count": 232,
   "id": "bc25c7ca-bfd4-4dde-bda4-57dc493efab4",
   "metadata": {},
   "outputs": [],
   "source": [
    "cols.sort()"
   ]
  },
  {
   "cell_type": "code",
   "execution_count": 233,
   "id": "0936b8c3-0393-472e-8f44-c7cfa38f77ac",
   "metadata": {},
   "outputs": [],
   "source": [
    "pos_dist_by_month = pos_dist_by_month[cols]"
   ]
  },
  {
   "cell_type": "code",
   "execution_count": 234,
   "id": "688d96bf-fcf2-4be0-8b94-f18f7f340b0d",
   "metadata": {},
   "outputs": [],
   "source": [
    "pos_dist_by_month = pos_dist_by_month.fillna(0)"
   ]
  },
  {
   "cell_type": "code",
   "execution_count": 235,
   "id": "0886b428-72a2-417d-98d6-db7160b9e420",
   "metadata": {},
   "outputs": [],
   "source": [
    "buyplan_co_w_forecast = buyplan_co_w_forecast.merge(pos_dist_by_month, how='left', on='EAN_TEXT')"
   ]
  },
  {
   "cell_type": "code",
   "execution_count": 236,
   "id": "e9fdee78-44b5-4cf1-a1c7-c1806ca66bf7",
   "metadata": {},
   "outputs": [],
   "source": [
    "buyplan_co_w_forecast.to_csv('Buyplan_Razon_Validation_Colombia.csv', index=False)"
   ]
  },
  {
   "cell_type": "code",
   "execution_count": 237,
   "id": "ac4a2e3d-9848-481b-ae79-32cc5f6d6dfe",
   "metadata": {},
   "outputs": [],
   "source": [
    "base.to_csv('base.csv', index=False)"
   ]
  },
  {
   "cell_type": "code",
   "execution_count": 238,
   "id": "d876f753-4658-490e-ad54-54b3f31e72e5",
   "metadata": {
    "tags": []
   },
   "outputs": [],
   "source": [
    "buyplan_co_dash = pd.melt(buyplan_co, id_vars=['EAN_TEXT', 'Brand', 'Descripcion', 'Active', 'Leadtime','Leadtime ex sourcing', 'Priority', 'Predicted OOS Date', 'Predicted Immediate OOS Date', 'Required_ETA'], value_vars=list(buyplan_co.iloc[:,7:-3].columns))\n",
    "buyplan_co_dash['value'] = buyplan_co_dash['value'].apply(lambda x: math.ceil(x))\n",
    "buyplan_co_dash['Year'] = buyplan_co_dash['variable'].apply(lambda x: x.split(' ')[0])\n",
    "buyplan_co_dash['Month'] = buyplan_co_dash['variable'].apply(lambda x: x.split(' ')[1])\n",
    "buyplan_co_dash = buyplan_co_dash.drop(columns=['variable'])\n",
    "buyplan_co_dash.rename(columns={'value': 'PO Units'}, inplace=True)"
   ]
  },
  {
   "cell_type": "code",
   "execution_count": 239,
   "id": "a8e2383d-a414-4baf-8efa-4dba3525a1bc",
   "metadata": {},
   "outputs": [],
   "source": [
    "buyplan_co_dash.to_csv('buyplan_co_dash.csv')\n",
    "base[base.Year <= 2023].to_csv('buyplan_co_base_for_dash.csv')"
   ]
  },
  {
   "cell_type": "markdown",
   "id": "de90539c-83b3-4e49-885a-03132e2a77c0",
   "metadata": {},
   "source": [
    "# Scheduled Arrivals"
   ]
  },
  {
   "cell_type": "code",
   "execution_count": 101,
   "id": "597e8aee-037e-44a7-b672-a0de799a728a",
   "metadata": {},
   "outputs": [],
   "source": [
    "scheduled_arrivals = base.copy()"
   ]
  },
  {
   "cell_type": "code",
   "execution_count": 102,
   "id": "6fc893ec-de1a-4a6d-a799-5cf800a9a52a",
   "metadata": {},
   "outputs": [],
   "source": [
    "scheduled_arrivals = scheduled_arrivals[['EAN_TEXT', 'Brand', 'Descripcion', 'Status', 'Year',\n",
    "       'Month', 'Leadtime', 'Leadtime ex sourcing', 'Priority', 'Scheduled Arrivals','Daily_Forecast', 'Forecasted Sales']].groupby(['EAN_TEXT', 'Brand', 'Descripcion', 'Status', 'Year',\n",
    "       'Month', 'Leadtime', 'Leadtime ex sourcing', 'Priority']).sum().reset_index()"
   ]
  },
  {
   "cell_type": "code",
   "execution_count": 103,
   "id": "2ea3b12e-9ce9-4f8b-b9e6-4ccd6c883d40",
   "metadata": {},
   "outputs": [],
   "source": [
    "scheduled_arrivals = scheduled_arrivals.rename(columns={'Daily_Forecast': 'Forecast'})"
   ]
  },
  {
   "cell_type": "code",
   "execution_count": 104,
   "id": "6c218d08-1749-4538-81e1-6ae6bf65dc27",
   "metadata": {},
   "outputs": [],
   "source": [
    "scheduled_arrivals = scheduled_arrivals.pivot(index=['EAN_TEXT', 'Brand', 'Descripcion', 'Status', 'Leadtime', 'Leadtime ex sourcing', 'Priority'], columns=['Year', 'Month'], values=['Forecast', 'Forecasted Sales', 'Scheduled Arrivals']).reset_index()"
   ]
  },
  {
   "cell_type": "code",
   "execution_count": 105,
   "id": "e87b74b1-b278-4690-9504-07d6ffc867d2",
   "metadata": {},
   "outputs": [],
   "source": [
    "scheduled_arrivals.columns = scheduled_arrivals.columns.to_flat_index()"
   ]
  },
  {
   "cell_type": "code",
   "execution_count": 106,
   "id": "4bcb2e33-5ecd-4782-84fd-28e12ec274ff",
   "metadata": {},
   "outputs": [],
   "source": [
    "cols = []\n",
    "for column in scheduled_arrivals.columns:\n",
    "    cols.append(' '.join(map(str,column)).strip())\n",
    "scheduled_arrivals.columns = cols"
   ]
  },
  {
   "cell_type": "code",
   "execution_count": 107,
   "id": "cb19e2fe-9c4d-43a9-9269-e21a26e4bdfa",
   "metadata": {},
   "outputs": [],
   "source": [
    "scheduled_arrivals.to_csv(f'{current_day}_noche_file.csv', index=False)"
   ]
  },
  {
   "cell_type": "markdown",
   "id": "48eddf1a-17f0-4f95-8a30-bbb8e671866a",
   "metadata": {},
   "source": [
    "# Constrained Forecast"
   ]
  },
  {
   "cell_type": "code",
   "execution_count": 108,
   "id": "39d84908-adfb-4bd0-a134-1e66732aa43e",
   "metadata": {},
   "outputs": [],
   "source": [
    "constrained_forecast = base[base.Date <= '2023-12-31']"
   ]
  },
  {
   "cell_type": "code",
   "execution_count": 109,
   "id": "46dcf609-a413-4431-9769-e78e031996b3",
   "metadata": {},
   "outputs": [],
   "source": [
    "constrained_forecast = constrained_forecast[['EAN_TEXT', 'Brand', 'Descripcion', 'Status', 'Year',\n",
    "       'Month', 'Leadtime', 'Leadtime ex sourcing', 'Priority', 'Daily_Forecast', 'Forecasted Sales']].groupby(['EAN_TEXT', 'Brand', 'Descripcion', 'Status', 'Year',\n",
    "       'Month', 'Leadtime', 'Leadtime ex sourcing', 'Priority']).sum().reset_index()"
   ]
  },
  {
   "cell_type": "code",
   "execution_count": 110,
   "id": "c833113a-1dca-4cc3-8f4f-c8fc57229ba5",
   "metadata": {},
   "outputs": [],
   "source": [
    "constrained_forecast = constrained_forecast.rename(columns={'Daily_Forecast': 'Forecast'})"
   ]
  },
  {
   "cell_type": "code",
   "execution_count": 111,
   "id": "4c375f38-3d14-454d-ab56-60b3405e263f",
   "metadata": {},
   "outputs": [],
   "source": [
    "constrained_forecast = constrained_forecast.pivot(index=['EAN_TEXT','Brand', 'Descripcion', 'Status', 'Leadtime', 'Leadtime ex sourcing', 'Priority'], columns=['Year', 'Month'], values=['Forecast', 'Forecasted Sales']).reset_index()"
   ]
  },
  {
   "cell_type": "code",
   "execution_count": 112,
   "id": "e94cab7d-5739-4873-88b3-5f994caac5e8",
   "metadata": {},
   "outputs": [],
   "source": [
    "constrained_forecast.columns = constrained_forecast.columns.to_flat_index()"
   ]
  },
  {
   "cell_type": "code",
   "execution_count": 113,
   "id": "851782dc-18ff-47bb-b76c-d5577964ac8b",
   "metadata": {},
   "outputs": [],
   "source": [
    "cols = []\n",
    "for column in constrained_forecast.columns:\n",
    "    cols.append(' '.join(map(str,column)).strip())\n",
    "constrained_forecast.columns = cols"
   ]
  },
  {
   "cell_type": "code",
   "execution_count": 114,
   "id": "c83972c2-a385-4870-b6bb-ac1ab6574c64",
   "metadata": {},
   "outputs": [],
   "source": [
    "constrained_forecast.to_csv(f'{current_day}_constrained_sales.csv', index=False)"
   ]
  }
 ],
 "metadata": {
  "kernelspec": {
   "display_name": "Python 3 (ipykernel)",
   "language": "python",
   "name": "python3"
  },
  "language_info": {
   "codemirror_mode": {
    "name": "ipython",
    "version": 3
   },
   "file_extension": ".py",
   "mimetype": "text/x-python",
   "name": "python",
   "nbconvert_exporter": "python",
   "pygments_lexer": "ipython3",
   "version": "3.9.13"
  }
 },
 "nbformat": 4,
 "nbformat_minor": 5
}
