{
 "cells": [
  {
   "cell_type": "code",
   "execution_count": 1,
   "id": "14fd065a-f5f7-4644-9d5f-a248a6c7d1fe",
   "metadata": {},
   "outputs": [],
   "source": [
    "from selenium import webdriver\n",
    "from selenium.webdriver.chrome.service import Service\n",
    "from webdriver_manager.chrome import ChromeDriverManager\n",
    "from selenium.webdriver.common.keys import Keys\n",
    "from selenium.webdriver.common.by import By\n",
    "from selenium.webdriver.common.action_chains import ActionChains\n",
    "from selenium.webdriver.support.ui import WebDriverWait\n",
    "from selenium.webdriver.support import expected_conditions as EC\n",
    "from bs4 import BeautifulSoup\n",
    "import time\n",
    "import os\n",
    "import pandas as pd\n",
    "from bs4 import BeautifulSoup\n",
    "import pytz\n",
    "from datetime import datetime, timezone, timedelta, date\n",
    "import gspread\n",
    "from google.oauth2.service_account import Credentials"
   ]
  },
  {
   "cell_type": "code",
   "execution_count": 2,
   "id": "231292aa-2c93-452f-840d-3609a3581de4",
   "metadata": {},
   "outputs": [],
   "source": [
    "os.environ[\"GOOGLE_VALOREO_SOURCING_CREDENTIALS\"]=\"../consol_inventario/valoreo_sourcing.json\"\n",
    "path_to_credentials_file = os.environ.get('GOOGLE_VALOREO_SOURCING_CREDENTIALS')\n",
    "scope = ['https://spreadsheets.google.com/feeds', 'https://www.googleapis.com/auth/drive']\n",
    "credentials = Credentials.from_service_account_file(path_to_credentials_file, scopes=scope)"
   ]
  },
  {
   "cell_type": "code",
   "execution_count": 3,
   "id": "c3f58ac7-ad54-4bb5-be0c-0994ec619f8e",
   "metadata": {},
   "outputs": [],
   "source": [
    "chromeOptions = webdriver.ChromeOptions()\n",
    "prefs = {\"download.default_directory\" : \"./downloads\"}\n",
    "chromeOptions.add_experimental_option(\"prefs\",prefs)"
   ]
  },
  {
   "cell_type": "code",
   "execution_count": 28,
   "id": "625fb793-550f-43df-bb3e-3d9994e5514c",
   "metadata": {},
   "outputs": [],
   "source": [
    "driver = webdriver.Chrome(service=Service(ChromeDriverManager().install()), options=chromeOptions)"
   ]
  },
  {
   "cell_type": "code",
   "execution_count": 29,
   "id": "479106b6-8ba1-4b19-a9c0-8892acd4a526",
   "metadata": {},
   "outputs": [],
   "source": [
    "driver.maximize_window()\n",
    "driver.get(\"https://sgl.homecenter.co/#/auth/login\")"
   ]
  },
  {
   "cell_type": "code",
   "execution_count": 30,
   "id": "a9b5b3fe-7ca1-4a31-a9ff-b304ea49ca26",
   "metadata": {},
   "outputs": [],
   "source": [
    "user = '901486566'\n",
    "psw = 'aM4b5Ia*'"
   ]
  },
  {
   "cell_type": "code",
   "execution_count": 7,
   "id": "0c975b73-f0d2-4f77-9844-a3367623402c",
   "metadata": {
    "tags": []
   },
   "outputs": [],
   "source": [
    "driver.find_element(By.XPATH, '/html/body/app/login-2/div/div[2]/div[3]/form/mat-form-field[1]/div/div[1]/div[3]/input').send_keys(user)\n",
    "driver.find_element(By.XPATH, '/html/body/app/login-2/div/div[2]/div[3]/form/mat-form-field[2]/div/div[1]/div[3]/input').send_keys(psw)\n",
    "driver.find_element(By.XPATH, '/html/body/app/login-2/div/div[2]/div[3]/form/button').click()\n",
    "time.sleep(40)\n",
    "try:\n",
    "    webdriver.ActionChains(driver).send_keys(Keys.ESCAPE).perform()\n",
    "except:\n",
    "    pass\n",
    "try:\n",
    "    driver.find_element(By.XPATH, '/html/body/div[3]/div[2]/div/mat-dialog-container/app-notificacion/div[2]/div[2]/button').click()\n",
    "except:\n",
    "    pass\n",
    "    \n",
    "\n",
    "a = driver.find_elements(By.TAG_NAME, 'mat-card')\n",
    "for card in a[1:]:\n",
    "    if 'Informacion Logistica' in card.text:\n",
    "        card.click()\n",
    "        break\n",
    "time.sleep(60)\n",
    "frame = driver.find_element(By.XPATH, '/html/body/app/vertical-layout-1/div/div/div/div/content/app-iframe/div/iframe')\n",
    "driver.switch_to.frame(frame)\n",
    "time.sleep(60)\n",
    "driver.find_element(By.XPATH, '/html/body/app/div/div/div/div/div[2]/div[2]/div/div/div/div/div/div/app-home/form/main/section/div[1]/mat-card[2]/mat-card-content/button').click()\n",
    "time.sleep(40)\n",
    "driver.quit()"
   ]
  },
  {
   "cell_type": "code",
   "execution_count": 24,
   "id": "03c89d70-4742-4bfa-9276-0587c60cb206",
   "metadata": {},
   "outputs": [],
   "source": [
    "files = os.listdir('../../../../Downloads')\n",
    "for file in files:\n",
    "    if '.xlsx' in file:\n",
    "        selected_file = file\n",
    "homecenter_inv = pd.read_excel(f'../../../../Downloads/{selected_file}', sheet_name='Reporte Inventario')\n",
    "os.remove(f'../../../../Downloads/{selected_file}')"
   ]
  },
  {
   "cell_type": "code",
   "execution_count": 40,
   "id": "52fffc83-fa35-4e7a-963d-b292437211c6",
   "metadata": {},
   "outputs": [],
   "source": [
    "df_catalog = pd.read_csv('sku-ean.csv', dtype=str)"
   ]
  },
  {
   "cell_type": "code",
   "execution_count": 41,
   "id": "e55fe29b-f3e2-4fa1-a4c2-b7c509529347",
   "metadata": {},
   "outputs": [],
   "source": [
    "homecenter_inv['Sku'] = homecenter_inv['Sku'].astype(str)"
   ]
  },
  {
   "cell_type": "code",
   "execution_count": 42,
   "id": "b8bbb6ed-897b-4dd8-ad54-64c53b1668b8",
   "metadata": {},
   "outputs": [],
   "source": [
    "homecenter_inv = homecenter_inv.merge(df_catalog, how='left', left_on='Sku', right_on='SKU').drop(columns='SKU')"
   ]
  },
  {
   "cell_type": "code",
   "execution_count": 51,
   "id": "f2ec72ac-3e7a-4429-850a-afd0d74155e5",
   "metadata": {
    "tags": []
   },
   "outputs": [],
   "source": [
    "local_tz = pytz.timezone('America/Mexico_City')\n",
    "current_day = datetime.today().astimezone(local_tz).strftime('%Y%m%d')\n",
    "homecenter_inv.to_csv(f'homecenter_inv.csv', index=False)\n",
    "homecenter_inv.to_csv(f'{current_day}_homecenter_inv.csv', index=False)"
   ]
  },
  {
   "cell_type": "code",
   "execution_count": null,
   "id": "b00a5476-1fbe-4b15-ae3b-f59333a7d644",
   "metadata": {},
   "outputs": [],
   "source": []
  }
 ],
 "metadata": {
  "kernelspec": {
   "display_name": "Python 3 (ipykernel)",
   "language": "python",
   "name": "python3"
  },
  "language_info": {
   "codemirror_mode": {
    "name": "ipython",
    "version": 3
   },
   "file_extension": ".py",
   "mimetype": "text/x-python",
   "name": "python",
   "nbconvert_exporter": "python",
   "pygments_lexer": "ipython3",
   "version": "3.9.13"
  }
 },
 "nbformat": 4,
 "nbformat_minor": 5
}
