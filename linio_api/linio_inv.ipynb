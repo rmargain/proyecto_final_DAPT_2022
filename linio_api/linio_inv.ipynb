{
 "cells": [
  {
   "cell_type": "code",
   "execution_count": 1,
   "metadata": {},
   "outputs": [],
   "source": [
    "import gspread\n",
    "from google.oauth2.service_account import Credentials\n",
    "from hashlib import sha256\n",
    "from hmac import HMAC\n",
    "from sys import api_version\n",
    "import requests\n",
    "from datetime import datetime\n",
    "import urllib.parse\n",
    "import pandas as pd\n",
    "import os\n",
    "import pytz"
   ]
  },
  {
   "cell_type": "code",
   "execution_count": 2,
   "metadata": {},
   "outputs": [],
   "source": [
    "os.environ[\"GOOGLE_VALOREO_SOURCING_CREDENTIALS\"]=\"../consol_inventario/valoreo_sourcing.json\"\n",
    "path_to_credentials_file = os.environ.get('GOOGLE_VALOREO_SOURCING_CREDENTIALS')\n",
    "scope = ['https://spreadsheets.google.com/feeds', 'https://www.googleapis.com/auth/drive']\n",
    "credentials = Credentials.from_service_account_file(path_to_credentials_file, scopes=scope)"
   ]
  },
  {
   "cell_type": "code",
   "execution_count": 3,
   "metadata": {
    "tags": []
   },
   "outputs": [],
   "source": [
    "parameters = {\n",
    "    'Action':           'GetProducts',\n",
    "    'Filter':           'all',\n",
    "    'Format':           'JSON',\n",
    "    'GlobalIdentifier': 0,\n",
    "    #'SkuSellerList':    [7502308501508],\n",
    "    'Timestamp':        datetime.now().isoformat(timespec='seconds'),\n",
    "    'UserID':           'roberto@valoreo.com',\n",
    "    'Version':          '1.0'\n",
    "}\n",
    "\n",
    "# NEEDED TO CREATE SIGNATURE\n",
    "parameters_tuples   = sorted(parameters.items())\n",
    "concatenated_params = urllib.parse.urlencode(parameters_tuples)\n",
    "\n",
    "#api_key = '8c74684ef88b39b0a9970492733ba0812e47ca06' # Ismael\n",
    "api_key = '7c00e83f035aa41d176d999fa21afd6035498147' #Roberto\n",
    "\n",
    "# CREATE SIGNATURE\n",
    "signature = HMAC(api_key.encode('ascii'),\n",
    "                 concatenated_params.encode('ascii'), sha256).hexdigest()\n",
    "parameters['Signature'] = signature\n",
    "\n",
    "\n",
    "# PARAMETERS + SIGNATURE\n",
    "str_parameters = urllib.parse.urlencode( parameters )\n",
    "\n",
    "# REQUEST\n",
    "\n",
    "base_url = \"https://sellercenter-api.linio.com.co\"\n",
    "headers  = {\"accept\": \"application/*\"}\n",
    "\n",
    "r = requests.get( f'{base_url}/?{str_parameters}', headers=headers)\n",
    "\n",
    "api_response_json = r.json()"
   ]
  },
  {
   "cell_type": "code",
   "execution_count": 4,
   "metadata": {
    "tags": []
   },
   "outputs": [],
   "source": [
    "df = pd.json_normalize( api_response_json['SuccessResponse']['Body']['Products']['Product'] )\n",
    "try:\n",
    "    df = df[ ['SellerSku','ShopSku', 'Quantity','FulfillmentByNonSellable','FulfillmentBySellable'] ]\n",
    "except:\n",
    "    df = df[ ['SellerSku','ShopSku', 'Quantity','FulfillmentBySellable'] ]\n",
    "try:\n",
    "    df['FulfillmentByNonSellable'] = df['FulfillmentByNonSellable'].fillna(0).astype(int)\n",
    "except:\n",
    "    pass\n",
    "df['FulfillmentBySellable'] = df['FulfillmentBySellable'].fillna(0).astype(int)\n",
    "df['Quantity'] = df['Quantity'].fillna(0).astype(int)"
   ]
  },
  {
   "cell_type": "code",
   "execution_count": 14,
   "metadata": {
    "tags": []
   },
   "outputs": [],
   "source": [
    "df['EAN_TEXT'] = \"EAN\"+(\"000000000\"+df['SellerSku']).str[-14:]"
   ]
  },
  {
   "cell_type": "code",
   "execution_count": 18,
   "metadata": {},
   "outputs": [],
   "source": [
    "linio_inv = df[['EAN_TEXT', 'Quantity', 'FulfillmentBySellable']]"
   ]
  },
  {
   "cell_type": "code",
   "execution_count": 19,
   "metadata": {},
   "outputs": [],
   "source": [
    "local_tz = pytz.timezone('America/Mexico_City')\n",
    "current_day = datetime.today().astimezone(local_tz).strftime('%Y%m%d')\n",
    "linio_inv.to_csv(f'linio_inv.csv', index=False)\n",
    "linio_inv.to_csv(f'{current_day}_linio_inv.csv', index=False)"
   ]
  }
 ],
 "metadata": {
  "kernelspec": {
   "display_name": "Python 3 (ipykernel)",
   "language": "python",
   "name": "python3"
  },
  "language_info": {
   "codemirror_mode": {
    "name": "ipython",
    "version": 3
   },
   "file_extension": ".py",
   "mimetype": "text/x-python",
   "name": "python",
   "nbconvert_exporter": "python",
   "pygments_lexer": "ipython3",
   "version": "3.9.13"
  },
  "vscode": {
   "interpreter": {
    "hash": "aee8b7b246df8f9039afb4144a1f6fd8d2ca17a180786b69acc140d282b71a49"
   }
  }
 },
 "nbformat": 4,
 "nbformat_minor": 4
}
