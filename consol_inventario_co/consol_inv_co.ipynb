{
 "cells": [
  {
   "cell_type": "code",
   "execution_count": 1,
   "id": "d1982412-3e48-4355-b91a-96c7bf0baeb6",
   "metadata": {},
   "outputs": [],
   "source": [
    "import pandas as pd\n",
    "import gspread\n",
    "from google.oauth2.service_account import Credentials\n",
    "import re\n",
    "import os\n",
    "import pytz\n",
    "from datetime import datetime, timezone, timedelta, date\n",
    "import datetime as dt"
   ]
  },
  {
   "cell_type": "code",
   "execution_count": 2,
   "id": "1a870e2c-368e-4c93-9039-a1d7f797997f",
   "metadata": {},
   "outputs": [],
   "source": [
    "# Google Drive Setup\n",
    "os.environ[\"GOOGLE_VALOREO_SOURCING_CREDENTIALS\"]=\"../consol_inventario/valoreo_sourcing.json\"\n",
    "path_to_credentials_file = os.environ.get('GOOGLE_VALOREO_SOURCING_CREDENTIALS')\n",
    "scope = ['https://spreadsheets.google.com/feeds', 'https://www.googleapis.com/auth/drive']\n",
    "credentials = Credentials.from_service_account_file(path_to_credentials_file, scopes=scope)"
   ]
  },
  {
   "cell_type": "code",
   "execution_count": 3,
   "id": "601de60c-57b7-4928-9a4a-6cb1a0285645",
   "metadata": {},
   "outputs": [],
   "source": [
    "full = pd.read_csv('../meli_api/inventario_meli_co.csv')\n",
    "linio = pd.read_csv('../linio_api/linio_inv.csv')\n",
    "homecenter = pd.read_csv('../homecenter_inv/homecenter_inv.csv')\n"
   ]
  },
  {
   "cell_type": "code",
   "execution_count": 4,
   "id": "d48f003b-c08c-4b70-baed-8758afa883f2",
   "metadata": {},
   "outputs": [],
   "source": [
    "dhl = pd.read_csv('dhl_inventory.csv')\n",
    "dhl = dhl.pivot(index=['EAN_TEXT'], columns=['Estado'], values=['DHL']).reset_index()\n",
    "dhl.columns = dhl.columns.to_flat_index()\n",
    "cols = []\n",
    "for column in dhl.columns:\n",
    "    cols.append(' '.join(map(str,column)).strip())\n",
    "dhl.columns = cols\n",
    "dhl.rename(columns={'DHL Insumos': 'DHL Raw Materials', 'DHL Pend. Maquila': 'DHL Pending Maquila', 'DHL Repuestos': 'DHL Spare Parts', 'DHL Vendible': 'DHL Available'}, inplace=True)\n",
    "dhl = dhl.groupby(['EAN_TEXT']).sum().reset_index()"
   ]
  },
  {
   "cell_type": "code",
   "execution_count": 5,
   "id": "c74ce0f6-13ed-44d9-b521-a84a409ba399",
   "metadata": {},
   "outputs": [],
   "source": [
    "full = full[['ean_text', 'available_qty', 'not_available_qty', 'total_qty']].groupby('ean_text').sum().reset_index()\n",
    "full = full.rename(columns={'ean_text':'EAN_TEXT', 'available_qty': 'Meli_Full_Available', 'not_available_qty': 'Meli_Full_Unavailable', 'total_qty': 'Meli_Full_Total'})"
   ]
  },
  {
   "cell_type": "code",
   "execution_count": 6,
   "id": "0fb90d20-4cc4-48bc-af53-43031ce11187",
   "metadata": {},
   "outputs": [],
   "source": [
    "linio = linio[['EAN_TEXT', 'FulfillmentBySellable']].groupby('EAN_TEXT').sum().reset_index()"
   ]
  },
  {
   "cell_type": "code",
   "execution_count": 7,
   "id": "f385d5ba-daa0-470b-bf30-ac02d2eb97e6",
   "metadata": {},
   "outputs": [],
   "source": [
    "linio = linio.rename(columns={'FulfillmentBySellable': 'Linio_Available'})"
   ]
  },
  {
   "cell_type": "code",
   "execution_count": 8,
   "id": "60b66a2a-696f-4363-b65a-3dd14fe02f49",
   "metadata": {},
   "outputs": [],
   "source": [
    "homecenter = homecenter[['EAN_TEXT', 'Inventario Total']].groupby('EAN_TEXT').sum().reset_index()\n",
    "homecenter = homecenter.rename(columns={'Inventario Total': 'Homecenter Available'})"
   ]
  },
  {
   "cell_type": "code",
   "execution_count": 9,
   "id": "2bf55464-e60b-4c81-b167-52ad76761715",
   "metadata": {
    "tags": []
   },
   "outputs": [],
   "source": [
    "consolidated = dhl.merge(full, how='outer', on='EAN_TEXT')\n",
    "consolidated = consolidated.merge(linio, how='outer', on='EAN_TEXT')\n",
    "consolidated = consolidated.merge(homecenter, how='outer', on='EAN_TEXT')\n",
    "consolidated.iloc[:,2:]=consolidated.iloc[:,2:].fillna(0)\n",
    "consolidated = consolidated[['EAN_TEXT', 'Meli_Full_Available', 'Meli_Full_Unavailable', 'Meli_Full_Total', 'Linio_Available', 'Homecenter Available', 'DHL Available', 'DHL Pending Maquila', 'DHL Raw Materials', 'DHL Spare Parts']]\n"
   ]
  },
  {
   "cell_type": "code",
   "execution_count": 10,
   "id": "952bbb61-7a74-4f43-aa79-99b05bfd311e",
   "metadata": {},
   "outputs": [],
   "source": [
    "catalog = pd.read_csv('../buyplan_co/catalog_master_co.csv', dtype=str)"
   ]
  },
  {
   "cell_type": "code",
   "execution_count": 11,
   "id": "001345ca-e5df-452b-8fcc-e1bd2d6a335c",
   "metadata": {},
   "outputs": [],
   "source": [
    "catalog = catalog[['EAN_TEXT', 'Brand', 'Description']]"
   ]
  },
  {
   "cell_type": "code",
   "execution_count": 12,
   "id": "441af3ee-8d64-455e-9105-a8a783d509c3",
   "metadata": {},
   "outputs": [],
   "source": [
    "catalog = catalog.rename(columns={'Description':'Item Name'})"
   ]
  },
  {
   "cell_type": "code",
   "execution_count": 13,
   "id": "cb7e4a9b-4c16-4485-9afd-66c69448123c",
   "metadata": {},
   "outputs": [],
   "source": [
    "catalog = catalog.dropna()"
   ]
  },
  {
   "cell_type": "code",
   "execution_count": 14,
   "id": "3c709748-5b7e-4435-8df8-1940a1de176b",
   "metadata": {},
   "outputs": [],
   "source": [
    "catalog = catalog.drop_duplicates(subset='EAN_TEXT')"
   ]
  },
  {
   "cell_type": "code",
   "execution_count": 15,
   "id": "853a86e1-ae1b-4296-9c78-a54c7f54487e",
   "metadata": {},
   "outputs": [],
   "source": [
    "consolidated = consolidated.merge(catalog, how='left', on='EAN_TEXT')"
   ]
  },
  {
   "cell_type": "code",
   "execution_count": 16,
   "id": "e9b4ad7d-6641-46c3-9f33-0749e9ad583c",
   "metadata": {},
   "outputs": [],
   "source": [
    "consolidated.to_csv('inventory.csv', index=False)\n",
    "local_tz = pytz.timezone('America/Bogota')\n",
    "current_day = datetime.today().astimezone(local_tz).strftime('%Y%m%d')\n",
    "consolidated.to_csv(f'{current_day}_inventory.csv')"
   ]
  }
 ],
 "metadata": {
  "kernelspec": {
   "display_name": "Python 3 (ipykernel)",
   "language": "python",
   "name": "python3"
  },
  "language_info": {
   "codemirror_mode": {
    "name": "ipython",
    "version": 3
   },
   "file_extension": ".py",
   "mimetype": "text/x-python",
   "name": "python",
   "nbconvert_exporter": "python",
   "pygments_lexer": "ipython3",
   "version": "3.9.13"
  }
 },
 "nbformat": 4,
 "nbformat_minor": 5
}
